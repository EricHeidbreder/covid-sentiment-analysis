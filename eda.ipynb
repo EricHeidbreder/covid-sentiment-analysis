{
 "cells": [
  {
   "cell_type": "code",
   "execution_count": 1,
   "metadata": {},
   "outputs": [],
   "source": [
    "import numpy as np\n",
    "import pandas as pd\n",
    "import matplotlib.pyplot as plt\n",
    "import seaborn as sns\n",
    "from datetime import datetime\n",
    "from sklearn.feature_extraction.text import TfidfVectorizer, CountVectorizer\n",
    "from tqdm import tqdm\n",
    "from nltk.corpus import stopwords\n",
    "from nltk.tokenize import RegexpTokenizer\n",
    "from nltk.stem.porter import PorterStemmer\n",
    "from bs4 import BeautifulSoup\n",
    "from joblib import Parallel, delayed"
   ]
  },
  {
   "cell_type": "code",
   "execution_count": 2,
   "metadata": {},
   "outputs": [],
   "source": [
    "state = pd.read_csv('./data/IL_scrape_data_Thu_Sep_10_20_31_47_2020.csv')"
   ]
  },
  {
   "cell_type": "code",
   "execution_count": 3,
   "metadata": {},
   "outputs": [
    {
     "data": {
      "text/plain": [
       "200.00238072786416"
      ]
     },
     "execution_count": 3,
     "metadata": {},
     "output_type": "execute_result"
    }
   ],
   "source": [
    "np.random.normal(200, 0.1)"
   ]
  },
  {
   "cell_type": "code",
   "execution_count": 4,
   "metadata": {},
   "outputs": [
    {
     "data": {
      "text/plain": [
       "98071    1238261027034333187\n",
       "Name: id, dtype: object"
      ]
     },
     "execution_count": 4,
     "metadata": {},
     "output_type": "execute_result"
    }
   ],
   "source": [
    "state.tail(1)['id']"
   ]
  },
  {
   "cell_type": "code",
   "execution_count": 5,
   "metadata": {},
   "outputs": [
    {
     "name": "stdout",
     "output_type": "stream",
     "text": [
      "<class 'pandas.core.frame.DataFrame'>\n",
      "RangeIndex: 98072 entries, 0 to 98071\n",
      "Data columns (total 18 columns):\n",
      " #   Column          Non-Null Count  Dtype \n",
      "---  ------          --------------  ----- \n",
      " 0   username        98072 non-null  object\n",
      " 1   to              59244 non-null  object\n",
      " 2   text            94426 non-null  object\n",
      " 3   retweets        98072 non-null  object\n",
      " 4   favorites       98072 non-null  object\n",
      " 5   replies         98072 non-null  object\n",
      " 6   id              98072 non-null  object\n",
      " 7   permalink       98072 non-null  object\n",
      " 8   author_id       98072 non-null  object\n",
      " 9   date            98072 non-null  object\n",
      " 10  formatted_date  98072 non-null  object\n",
      " 11  hashtags        12025 non-null  object\n",
      " 12  mentions        12156 non-null  object\n",
      " 13  geo             931 non-null    object\n",
      " 14  urls            25292 non-null  object\n",
      " 15  city            98072 non-null  object\n",
      " 16  query           931 non-null    object\n",
      " 17  date_range      98072 non-null  object\n",
      "dtypes: object(18)\n",
      "memory usage: 13.5+ MB\n"
     ]
    }
   ],
   "source": [
    "state.info()"
   ]
  },
  {
   "cell_type": "code",
   "execution_count": 6,
   "metadata": {},
   "outputs": [
    {
     "data": {
      "text/plain": [
       "city\n",
       "aurora            3600\n",
       "bloomington       3381\n",
       "blue island       3600\n",
       "bolingbrook       3600\n",
       "bristol           3600\n",
       "carbondale        2358\n",
       "champaign         3600\n",
       "chicago           3600\n",
       "city               931\n",
       "danville            41\n",
       "decatur           1680\n",
       "dixon              884\n",
       "elgin             3600\n",
       "enfield             24\n",
       "fairfield           73\n",
       "farmington         148\n",
       "fox lake          3600\n",
       "freeport           463\n",
       "galena              80\n",
       "gurnee            3600\n",
       "harrisburg         254\n",
       "hecker            2006\n",
       "highland park     3600\n",
       "island grove      3600\n",
       "jacksonville       376\n",
       "kewanee            145\n",
       "macomb             715\n",
       "marengo           3600\n",
       "marion            2876\n",
       "marissa            258\n",
       "marshall            84\n",
       "melvin             136\n",
       "monmouth           888\n",
       "mt carmel           83\n",
       "naperville        3600\n",
       "nokomis            216\n",
       "oblong             136\n",
       "onarga              71\n",
       "orland park       3600\n",
       "paris               39\n",
       "paw paw             73\n",
       "peoria            2608\n",
       "pickneyville      3600\n",
       "pleasant grove    3600\n",
       "ripley            3600\n",
       "rockford          3600\n",
       "round lake        3600\n",
       "san jose            91\n",
       "springfield       3600\n",
       "st jacob          3600\n",
       "sterling           665\n",
       "streator           155\n",
       "sumner             152\n",
       "tuscola            186\n",
       "vandalia           157\n",
       "vermont             39\n",
       "Name: id, dtype: int64"
      ]
     },
     "execution_count": 6,
     "metadata": {},
     "output_type": "execute_result"
    }
   ],
   "source": [
    "state.groupby('city').count()['id']"
   ]
  },
  {
   "cell_type": "code",
   "execution_count": 7,
   "metadata": {},
   "outputs": [
    {
     "data": {
      "text/plain": [
       "username          0.000000\n",
       "to                0.395913\n",
       "text              0.037177\n",
       "retweets          0.000000\n",
       "favorites         0.000000\n",
       "replies           0.000000\n",
       "id                0.000000\n",
       "permalink         0.000000\n",
       "author_id         0.000000\n",
       "date              0.000000\n",
       "formatted_date    0.000000\n",
       "hashtags          0.877386\n",
       "mentions          0.876050\n",
       "geo               0.990507\n",
       "urls              0.742108\n",
       "city              0.000000\n",
       "query             0.990507\n",
       "date_range        0.000000\n",
       "dtype: float64"
      ]
     },
     "execution_count": 7,
     "metadata": {},
     "output_type": "execute_result"
    }
   ],
   "source": [
    "state.isnull().sum() / state.shape[0]"
   ]
  },
  {
   "cell_type": "code",
   "execution_count": 8,
   "metadata": {},
   "outputs": [],
   "source": [
    "state = state.dropna(subset=['text', 'date'])"
   ]
  },
  {
   "cell_type": "code",
   "execution_count": 9,
   "metadata": {},
   "outputs": [],
   "source": [
    "state = state[state['username'] != 'username'] # Removing leftover header rows (if they exist)"
   ]
  },
  {
   "cell_type": "code",
   "execution_count": 10,
   "metadata": {},
   "outputs": [
    {
     "name": "stdout",
     "output_type": "stream",
     "text": [
      "<class 'pandas.core.frame.DataFrame'>\n",
      "Int64Index: 93495 entries, 0 to 98071\n",
      "Data columns (total 18 columns):\n",
      " #   Column          Non-Null Count  Dtype \n",
      "---  ------          --------------  ----- \n",
      " 0   username        93495 non-null  object\n",
      " 1   to              56101 non-null  object\n",
      " 2   text            93495 non-null  object\n",
      " 3   retweets        93495 non-null  object\n",
      " 4   favorites       93495 non-null  object\n",
      " 5   replies         93495 non-null  object\n",
      " 6   id              93495 non-null  object\n",
      " 7   permalink       93495 non-null  object\n",
      " 8   author_id       93495 non-null  object\n",
      " 9   date            93495 non-null  object\n",
      " 10  formatted_date  93495 non-null  object\n",
      " 11  hashtags        11094 non-null  object\n",
      " 12  mentions        11225 non-null  object\n",
      " 13  geo             0 non-null      object\n",
      " 14  urls            23717 non-null  object\n",
      " 15  city            93495 non-null  object\n",
      " 16  query           0 non-null      object\n",
      " 17  date_range      93495 non-null  object\n",
      "dtypes: object(18)\n",
      "memory usage: 13.6+ MB\n"
     ]
    }
   ],
   "source": [
    "state.info()"
   ]
  },
  {
   "cell_type": "code",
   "execution_count": 11,
   "metadata": {},
   "outputs": [],
   "source": [
    "state_df = state.copy()[['username', 'text', 'date', 'city']]"
   ]
  },
  {
   "cell_type": "code",
   "execution_count": 12,
   "metadata": {},
   "outputs": [],
   "source": [
    "# state_df['date'] = state_df['date'].apply(lambda x: x[:-6]) "
   ]
  },
  {
   "cell_type": "code",
   "execution_count": 13,
   "metadata": {},
   "outputs": [],
   "source": [
    "state_df['date'] = pd.to_datetime(state_df['date'], utc=True)"
   ]
  },
  {
   "cell_type": "code",
   "execution_count": 14,
   "metadata": {},
   "outputs": [
    {
     "name": "stdout",
     "output_type": "stream",
     "text": [
      "<class 'pandas.core.frame.DataFrame'>\n",
      "Int64Index: 93495 entries, 0 to 98071\n",
      "Data columns (total 4 columns):\n",
      " #   Column    Non-Null Count  Dtype              \n",
      "---  ------    --------------  -----              \n",
      " 0   username  93495 non-null  object             \n",
      " 1   text      93495 non-null  object             \n",
      " 2   date      93495 non-null  datetime64[ns, UTC]\n",
      " 3   city      93495 non-null  object             \n",
      "dtypes: datetime64[ns, UTC](1), object(3)\n",
      "memory usage: 3.6+ MB\n"
     ]
    }
   ],
   "source": [
    "state_df.info()"
   ]
  },
  {
   "cell_type": "code",
   "execution_count": 15,
   "metadata": {},
   "outputs": [
    {
     "data": {
      "text/plain": [
       "0        3\n",
       "1        3\n",
       "2        3\n",
       "3        3\n",
       "4        3\n",
       "        ..\n",
       "98067    3\n",
       "98068    3\n",
       "98069    3\n",
       "98070    3\n",
       "98071    3\n",
       "Name: date, Length: 93495, dtype: int64"
      ]
     },
     "execution_count": 15,
     "metadata": {},
     "output_type": "execute_result"
    }
   ],
   "source": [
    "state_df['date'].dt.month"
   ]
  },
  {
   "cell_type": "code",
   "execution_count": 16,
   "metadata": {},
   "outputs": [
    {
     "data": {
      "text/plain": [
       "0"
      ]
     },
     "execution_count": 16,
     "metadata": {},
     "output_type": "execute_result"
    }
   ],
   "source": [
    "state['text'].isnull().sum()"
   ]
  },
  {
   "cell_type": "code",
   "execution_count": 17,
   "metadata": {},
   "outputs": [],
   "source": [
    "state_df['month'] = state_df['date'].dt.month"
   ]
  },
  {
   "cell_type": "code",
   "execution_count": 18,
   "metadata": {},
   "outputs": [],
   "source": [
    "state_df['day'] = state_df['date'].dt.day"
   ]
  },
  {
   "cell_type": "code",
   "execution_count": 19,
   "metadata": {},
   "outputs": [],
   "source": [
    "# Thanks Haley Taft for finding this link! https://www.dataquest.io/blog/python-datetime-tutorial/\n",
    "state_df = state_df[state_df['day'] != 27]"
   ]
  },
  {
   "cell_type": "code",
   "execution_count": 20,
   "metadata": {},
   "outputs": [
    {
     "data": {
      "text/plain": [
       "Text(0.5, 1.0, 'Distribution of IL tweets per day across date range')"
      ]
     },
     "execution_count": 20,
     "metadata": {},
     "output_type": "execute_result"
    },
    {
     "data": {
      "image/png": "[encoded data removed]",
      "text/plain": [
       "<Figure size 1008x432 with 1 Axes>"
      ]
     },
     "metadata": {
      "needs_background": "light"
     },
     "output_type": "display_data"
    }
   ],
   "source": [
    "plt.figure(figsize=(14, 6))\n",
    "state_df['day'].hist(bins=13);\n",
    "plt.title(f'Distribution of IL tweets per day across date range')"
   ]
  },
  {
   "cell_type": "code",
   "execution_count": 21,
   "metadata": {},
   "outputs": [],
   "source": [
    "state_df['text'] = state_df['text'].apply(lambda x: x.lower())"
   ]
  },
  {
   "cell_type": "code",
   "execution_count": 22,
   "metadata": {},
   "outputs": [],
   "source": [
    "state_df_query = state_df[state_df['text'].str.contains('covid')]"
   ]
  },
  {
   "cell_type": "code",
   "execution_count": 23,
   "metadata": {},
   "outputs": [
    {
     "data": {
      "text/plain": [
       "<AxesSubplot:>"
      ]
     },
     "execution_count": 23,
     "metadata": {},
     "output_type": "execute_result"
    },
    {
     "data": {
      "image/png": "[encoded data removed]",
      "text/plain": [
       "<Figure size 1008x432 with 1 Axes>"
      ]
     },
     "metadata": {
      "needs_background": "light"
     },
     "output_type": "display_data"
    }
   ],
   "source": [
    "plt.figure(figsize=(14, 6))\n",
    "state_df_query['day'].hist(bins=13)\n"
   ]
  },
  {
   "cell_type": "code",
   "execution_count": 24,
   "metadata": {},
   "outputs": [],
   "source": [
    "stop_words = ['http', 'https', 'igshid', 'becau']"
   ]
  },
  {
   "cell_type": "code",
   "execution_count": 25,
   "metadata": {},
   "outputs": [],
   "source": [
    "def tokenize_and_stem(text, stemmer=True):\n",
    "    '''\n",
    "    This does more than just tokenize and stem! The code removes links and\n",
    "    html artifacts and is great for dirty data scraped from Reddit.\n",
    "    \n",
    "    Needs to be run within a loop to work properly.\n",
    "    '''\n",
    "    # Getting rid of links\n",
    "    text = [word for word in text.lower().split() if not 'http' in word]\n",
    "\n",
    "    text = ' '.join(text)\n",
    "    \n",
    "    # Remove HTML Artifacts\n",
    "    bs = BeautifulSoup(text)\n",
    "    text = bs.get_text()\n",
    "    \n",
    "    # Tokenize clean text by separating out all word characters\n",
    "    tokenizer = RegexpTokenizer('\\w+')\n",
    "    tokens = tokenizer.tokenize(text)\n",
    "    \n",
    "    # Stem the tokens\n",
    "    p_stemmer = PorterStemmer()\n",
    "    return [p_stemmer.stem(i) for i in tokens]\n",
    "\n",
    "def tokenize(text):\n",
    "    # Getting rid of links\n",
    "    text = [word for word in text.lower().split() if not 'http' in word]\n",
    "    \n",
    "    text = ' '.join(text)\n",
    "    \n",
    "    # Remove HTML Artifacts\n",
    "    bs = BeautifulSoup(text)\n",
    "    text = bs.get_text()\n",
    "    \n",
    "    # Tokenize clean text by separating out all word characters\n",
    "    tokenizer = RegexpTokenizer('\\w+')\n",
    "    tokens = tokenizer.tokenize(text)\n",
    "    return tokens"
   ]
  },
  {
   "cell_type": "code",
   "execution_count": 26,
   "metadata": {},
   "outputs": [],
   "source": [
    "custom_sw = stopwords.words('english') + stop_words\n",
    "processed_sw = tokenize_and_stem(' '.join(custom_sw))"
   ]
  },
  {
   "cell_type": "code",
   "execution_count": 35,
   "metadata": {},
   "outputs": [
    {
     "name": "stderr",
     "output_type": "stream",
     "text": [
      "C:\\ProgramData\\Anaconda3\\envs\\dsi\\lib\\site-packages\\sklearn\\feature_extraction\\text.py:484: UserWarning: The parameter 'token_pattern' will not be used since 'tokenizer' is not None'\n",
      "  warnings.warn(\"The parameter 'token_pattern' will not be used\"\n",
      "C:\\ProgramData\\Anaconda3\\envs\\dsi\\lib\\site-packages\\bs4\\__init__.py:333: MarkupResemblesLocatorWarning: \".......\" looks like a filename, not markup. You should probably open this file and pass the filehandle into Beautiful Soup.\n",
      "  MarkupResemblesLocatorWarning\n",
      "C:\\ProgramData\\Anaconda3\\envs\\dsi\\lib\\site-packages\\bs4\\__init__.py:333: MarkupResemblesLocatorWarning: \"..\" looks like a filename, not markup. You should probably open this file and pass the filehandle into Beautiful Soup.\n",
      "  MarkupResemblesLocatorWarning\n",
      "C:\\ProgramData\\Anaconda3\\envs\\dsi\\lib\\site-packages\\bs4\\__init__.py:333: MarkupResemblesLocatorWarning: \"...\" looks like a filename, not markup. You should probably open this file and pass the filehandle into Beautiful Soup.\n",
      "  MarkupResemblesLocatorWarning\n",
      "C:\\ProgramData\\Anaconda3\\envs\\dsi\\lib\\site-packages\\bs4\\__init__.py:333: MarkupResemblesLocatorWarning: \"d:\" looks like a filename, not markup. You should probably open this file and pass the filehandle into Beautiful Soup.\n",
      "  MarkupResemblesLocatorWarning\n"
     ]
    },
    {
     "data": {
      "text/html": [
       "<div>\n",
       "<style scoped>\n",
       "    .dataframe tbody tr th:only-of-type {\n",
       "        vertical-align: middle;\n",
       "    }\n",
       "\n",
       "    .dataframe tbody tr th {\n",
       "        vertical-align: top;\n",
       "    }\n",
       "\n",
       "    .dataframe thead th {\n",
       "        text-align: right;\n",
       "    }\n",
       "</style>\n",
       "<table border=\"1\" class=\"dataframe\">\n",
       "  <thead>\n",
       "    <tr style=\"text-align: right;\">\n",
       "      <th></th>\n",
       "      <th>0</th>\n",
       "      <th>00</th>\n",
       "      <th>000</th>\n",
       "      <th>00000</th>\n",
       "      <th>000000</th>\n",
       "      <th>000069</th>\n",
       "      <th>000th</th>\n",
       "      <th>001</th>\n",
       "      <th>002</th>\n",
       "      <th>00am</th>\n",
       "      <th>...</th>\n",
       "      <th>잡힐거같은</th>\n",
       "      <th>제발</th>\n",
       "      <th>준비가</th>\n",
       "      <th>진짜</th>\n",
       "      <th>한여름</th>\n",
       "      <th>해볼</th>\n",
       "      <th>해요</th>\n",
       "      <th>ﾉ</th>\n",
       "      <th>𝕔𝕠𝕣𝕣𝕖𝕔𝕥𝕠</th>\n",
       "      <th>𝕝𝕠</th>\n",
       "    </tr>\n",
       "  </thead>\n",
       "  <tbody>\n",
       "    <tr>\n",
       "      <th>0</th>\n",
       "      <td>0</td>\n",
       "      <td>0</td>\n",
       "      <td>0</td>\n",
       "      <td>0</td>\n",
       "      <td>0</td>\n",
       "      <td>0</td>\n",
       "      <td>0</td>\n",
       "      <td>0</td>\n",
       "      <td>0</td>\n",
       "      <td>0</td>\n",
       "      <td>...</td>\n",
       "      <td>0</td>\n",
       "      <td>0</td>\n",
       "      <td>0</td>\n",
       "      <td>0</td>\n",
       "      <td>0</td>\n",
       "      <td>0</td>\n",
       "      <td>0</td>\n",
       "      <td>0</td>\n",
       "      <td>0</td>\n",
       "      <td>0</td>\n",
       "    </tr>\n",
       "    <tr>\n",
       "      <th>1</th>\n",
       "      <td>0</td>\n",
       "      <td>0</td>\n",
       "      <td>0</td>\n",
       "      <td>0</td>\n",
       "      <td>0</td>\n",
       "      <td>0</td>\n",
       "      <td>0</td>\n",
       "      <td>0</td>\n",
       "      <td>0</td>\n",
       "      <td>0</td>\n",
       "      <td>...</td>\n",
       "      <td>0</td>\n",
       "      <td>0</td>\n",
       "      <td>0</td>\n",
       "      <td>0</td>\n",
       "      <td>0</td>\n",
       "      <td>0</td>\n",
       "      <td>0</td>\n",
       "      <td>0</td>\n",
       "      <td>0</td>\n",
       "      <td>0</td>\n",
       "    </tr>\n",
       "    <tr>\n",
       "      <th>2</th>\n",
       "      <td>0</td>\n",
       "      <td>0</td>\n",
       "      <td>0</td>\n",
       "      <td>0</td>\n",
       "      <td>0</td>\n",
       "      <td>0</td>\n",
       "      <td>0</td>\n",
       "      <td>0</td>\n",
       "      <td>0</td>\n",
       "      <td>0</td>\n",
       "      <td>...</td>\n",
       "      <td>0</td>\n",
       "      <td>0</td>\n",
       "      <td>0</td>\n",
       "      <td>0</td>\n",
       "      <td>0</td>\n",
       "      <td>0</td>\n",
       "      <td>0</td>\n",
       "      <td>0</td>\n",
       "      <td>0</td>\n",
       "      <td>0</td>\n",
       "    </tr>\n",
       "    <tr>\n",
       "      <th>3</th>\n",
       "      <td>0</td>\n",
       "      <td>0</td>\n",
       "      <td>0</td>\n",
       "      <td>0</td>\n",
       "      <td>0</td>\n",
       "      <td>0</td>\n",
       "      <td>0</td>\n",
       "      <td>0</td>\n",
       "      <td>0</td>\n",
       "      <td>0</td>\n",
       "      <td>...</td>\n",
       "      <td>0</td>\n",
       "      <td>0</td>\n",
       "      <td>0</td>\n",
       "      <td>0</td>\n",
       "      <td>0</td>\n",
       "      <td>0</td>\n",
       "      <td>0</td>\n",
       "      <td>0</td>\n",
       "      <td>0</td>\n",
       "      <td>0</td>\n",
       "    </tr>\n",
       "    <tr>\n",
       "      <th>4</th>\n",
       "      <td>0</td>\n",
       "      <td>0</td>\n",
       "      <td>0</td>\n",
       "      <td>0</td>\n",
       "      <td>0</td>\n",
       "      <td>0</td>\n",
       "      <td>0</td>\n",
       "      <td>0</td>\n",
       "      <td>0</td>\n",
       "      <td>0</td>\n",
       "      <td>...</td>\n",
       "      <td>0</td>\n",
       "      <td>0</td>\n",
       "      <td>0</td>\n",
       "      <td>0</td>\n",
       "      <td>0</td>\n",
       "      <td>0</td>\n",
       "      <td>0</td>\n",
       "      <td>0</td>\n",
       "      <td>0</td>\n",
       "      <td>0</td>\n",
       "    </tr>\n",
       "  </tbody>\n",
       "</table>\n",
       "<p>5 rows × 43125 columns</p>\n",
       "</div>"
      ],
      "text/plain": [
       "   0  00  000  00000  000000  000069  000th  001  002  00am  ...  잡힐거같은  제발  \\\n",
       "0  0   0    0      0       0       0      0    0    0     0  ...      0   0   \n",
       "1  0   0    0      0       0       0      0    0    0     0  ...      0   0   \n",
       "2  0   0    0      0       0       0      0    0    0     0  ...      0   0   \n",
       "3  0   0    0      0       0       0      0    0    0     0  ...      0   0   \n",
       "4  0   0    0      0       0       0      0    0    0     0  ...      0   0   \n",
       "\n",
       "   준비가  진짜  한여름  해볼  해요  ﾉ  𝕔𝕠𝕣𝕣𝕖𝕔𝕥𝕠  𝕝𝕠  \n",
       "0    0   0    0   0   0  0         0   0  \n",
       "1    0   0    0   0   0  0         0   0  \n",
       "2    0   0    0   0   0  0         0   0  \n",
       "3    0   0    0   0   0  0         0   0  \n",
       "4    0   0    0   0   0  0         0   0  \n",
       "\n",
       "[5 rows x 43125 columns]"
      ]
     },
     "execution_count": 35,
     "metadata": {},
     "output_type": "execute_result"
    }
   ],
   "source": [
    "cvec_processed_sw = tokenize(' '.join(custom_sw))\n",
    "\n",
    "cvec = CountVectorizer(stop_words=custom_sw, tokenizer=tokenize)\n",
    "cvec_fit = cvec.fit(state_df['text'])\n",
    "cvec_transform = cvec.transform(state_df['text'])\n",
    "\n",
    "cvec_df = pd.DataFrame(cvec_transform.todense(),\n",
    "                 columns=cvec_fit.get_feature_names())\n",
    "\n",
    "cvec_df.head()"
   ]
  },
  {
   "cell_type": "code",
   "execution_count": 36,
   "metadata": {},
   "outputs": [
    {
     "name": "stderr",
     "output_type": "stream",
     "text": [
      "100%|██████████| 43125/43125 [00:49<00:00, 868.41it/s] \n"
     ]
    }
   ],
   "source": [
    "top_words_cvec = {}\n",
    "for column in tqdm(cvec_df.columns):\n",
    "    top_words_cvec[column] = cvec_df[column].sum()\n",
    "\n",
    "most_freq_cvec = pd.DataFrame(sorted(top_words_cvec.items(), key = lambda x: x[1], reverse=True))"
   ]
  },
  {
   "cell_type": "code",
   "execution_count": 47,
   "metadata": {},
   "outputs": [],
   "source": [
    "most_freq_cvec.to_csv('./data/top_words_cvec.csv', index=False)"
   ]
  },
  {
   "cell_type": "code",
   "execution_count": 50,
   "metadata": {
    "collapsed": true,
    "jupyter": {
     "outputs_hidden": true
    }
   },
   "outputs": [
    {
     "data": {
      "text/plain": [
       "['like',\n",
       " 'get',\n",
       " 'one',\n",
       " 'time',\n",
       " 'people',\n",
       " 'day',\n",
       " 'know',\n",
       " 'good',\n",
       " 'love',\n",
       " 'today',\n",
       " 'illinois',\n",
       " 'need',\n",
       " 'go',\n",
       " 'would',\n",
       " 'got',\n",
       " 'home',\n",
       " 'us',\n",
       " '2',\n",
       " 'right',\n",
       " 'going',\n",
       " 'great',\n",
       " 'work',\n",
       " 'see',\n",
       " 'thank',\n",
       " 'back',\n",
       " 'think',\n",
       " 'still',\n",
       " 'really',\n",
       " '3',\n",
       " '1',\n",
       " 'want',\n",
       " 'even',\n",
       " 'make',\n",
       " 'well',\n",
       " 'much',\n",
       " 'please',\n",
       " 'let',\n",
       " 'trump',\n",
       " 'way',\n",
       " 'stay',\n",
       " 'new',\n",
       " 'lol',\n",
       " 'never',\n",
       " 'quarantine',\n",
       " 'take',\n",
       " 'best',\n",
       " 'thanks',\n",
       " 'could',\n",
       " 'shit',\n",
       " 'first',\n",
       " '4',\n",
       " 'better',\n",
       " 'yes',\n",
       " '5',\n",
       " 'help',\n",
       " 'everyone',\n",
       " 'year',\n",
       " 'last',\n",
       " 'man',\n",
       " 'happy',\n",
       " 'coronavirus',\n",
       " 'keep',\n",
       " 'il',\n",
       " 'say',\n",
       " 'life',\n",
       " 'said',\n",
       " 'every',\n",
       " 'ever',\n",
       " 'family',\n",
       " 'many',\n",
       " 'virus',\n",
       " 'also',\n",
       " 'hope',\n",
       " '6',\n",
       " 'always',\n",
       " 'feel',\n",
       " 'thing',\n",
       " 'getting',\n",
       " 'made',\n",
       " 'look',\n",
       " 'god',\n",
       " 'week',\n",
       " 'things',\n",
       " 'world',\n",
       " 'sure',\n",
       " 'u',\n",
       " 'game',\n",
       " 'come',\n",
       " 'stop',\n",
       " '7',\n",
       " 'school',\n",
       " 'done',\n",
       " 'years',\n",
       " 'days',\n",
       " 'live',\n",
       " 'watch',\n",
       " 'bad',\n",
       " 'care',\n",
       " 'miss',\n",
       " 'little',\n",
       " 'next',\n",
       " 'show',\n",
       " 'times',\n",
       " 'working',\n",
       " '10',\n",
       " 'house',\n",
       " 'put',\n",
       " 'social',\n",
       " 'two',\n",
       " 'gonna',\n",
       " 'big',\n",
       " 'give',\n",
       " 'job',\n",
       " 'trying',\n",
       " 'oh',\n",
       " 'president',\n",
       " '19',\n",
       " 'covid',\n",
       " 'old',\n",
       " 'check',\n",
       " 'someone',\n",
       " 'something',\n",
       " 'making',\n",
       " 'everything',\n",
       " 'fuck',\n",
       " 'since',\n",
       " 'f',\n",
       " 'team',\n",
       " 'friends',\n",
       " 'night',\n",
       " 'thought',\n",
       " 'video',\n",
       " 'anyone',\n",
       " 'safe',\n",
       " 'birthday',\n",
       " 'wait',\n",
       " 'hard',\n",
       " 'watching',\n",
       " 'play',\n",
       " 'use',\n",
       " 'around',\n",
       " 'kids',\n",
       " 'fucking',\n",
       " 'tell',\n",
       " 'maybe',\n",
       " 'students',\n",
       " 'ass',\n",
       " 'call',\n",
       " 'together',\n",
       " 'nothing',\n",
       " 'season',\n",
       " 'may',\n",
       " 'morning',\n",
       " 'favorite',\n",
       " 'realdonaldtrump',\n",
       " 'another',\n",
       " 'money',\n",
       " 'real',\n",
       " 'lot',\n",
       " 'covid19',\n",
       " 'free',\n",
       " 'place',\n",
       " 'start',\n",
       " 'remember',\n",
       " 'awesome',\n",
       " 'point',\n",
       " 'anything',\n",
       " 'open',\n",
       " 'long',\n",
       " 'fun',\n",
       " 'support',\n",
       " 'away',\n",
       " 'guys',\n",
       " 'state',\n",
       " 'needs',\n",
       " 'already',\n",
       " 'current',\n",
       " 'damn',\n",
       " 'soon',\n",
       " 'twitter',\n",
       " 'weather',\n",
       " 'without',\n",
       " 'hate',\n",
       " 'person',\n",
       " 'nice',\n",
       " 'via',\n",
       " 'amazing',\n",
       " 'actually',\n",
       " 'looking',\n",
       " 'guy',\n",
       " 'part',\n",
       " 'high',\n",
       " 'find',\n",
       " '2020',\n",
       " 'health',\n",
       " 'tomorrow',\n",
       " 'pandemic',\n",
       " 'sorry',\n",
       " 'end',\n",
       " 'news']"
      ]
     },
     "execution_count": 50,
     "metadata": {},
     "output_type": "execute_result"
    }
   ],
   "source": [
    "most_freq_cvec.head(200)[0].tolist()"
   ]
  },
  {
   "cell_type": "code",
   "execution_count": null,
   "metadata": {},
   "outputs": [],
   "source": []
  }
 ],
 "metadata": {
  "kernelspec": {
   "display_name": "Python 3",
   "language": "python",
   "name": "python3"
  },
  "language_info": {
   "codemirror_mode": {
    "name": "ipython",
    "version": 3
   },
   "file_extension": ".py",
   "mimetype": "text/x-python",
   "name": "python",
   "nbconvert_exporter": "python",
   "pygments_lexer": "ipython3",
   "version": "3.7.9"
  }
 },
 "nbformat": 4,
 "nbformat_minor": 4
}
