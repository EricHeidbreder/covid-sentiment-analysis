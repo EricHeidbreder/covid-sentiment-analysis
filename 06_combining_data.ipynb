{
 "cells": [
  {
   "cell_type": "markdown",
   "metadata": {},
   "source": [
    "## **Combining Data for use in Tableau**"
   ]
  },
  {
   "cell_type": "markdown",
   "metadata": {},
   "source": [
    "We'd like to create an interactive dashboard for tableau, but to do that, we'll need to combine our data and add some new columns. Some features we'll need to add to the data include:\n",
    "* `date_announcement_normalized` - an ordinal column for the date that can be used to align states based on their closing/reopening announcement date. 0 is set as noon on the announcement date and the numbers are +/- the hours in relation to that moment\n",
    "* `is_reopen` - a boolean column that will say whether the row is from the state's opening or closing phase. Will do this by applying a True/False to all reopening or closing dataframes before doing a union."
   ]
  },
  {
   "cell_type": "code",
   "execution_count": 120,
   "metadata": {},
   "outputs": [],
   "source": [
    "import os\n",
    "import csv\n",
    "import pandas as pd\n",
    "import numpy as np\n",
    "from datetime import datetime, timedelta, timezone\n",
    "import matplotlib.style as style\n",
    "import matplotlib.pyplot as plt"
   ]
  },
  {
   "cell_type": "code",
   "execution_count": 72,
   "metadata": {},
   "outputs": [],
   "source": [
    "mi_reopen = pd.read_csv('./data/sentiment_data/MI_reopen_sentiment.csv')\n",
    "oh_reopen = pd.read_csv('./data/sentiment_data/OH_reopen_sentiment.csv')\n",
    "fl_reopen = pd.read_csv('./data/sentiment_data/FL_reopen_sentiment.csv')\n",
    "tx_reopen = pd.read_csv('./data/sentiment_data/TX_reopen_sentiment.csv')\n",
    "ga_reopen = pd.read_csv('./data/sentiment_data/GA_reopen_sentiment.csv')\n",
    "il_reopen = pd.read_csv('./data/sentiment_data/IL_reopen_sentiment.csv')\n",
    "nj_reopen = pd.read_csv('./data/sentiment_data/NJ_reopen_sentiment.csv')\n",
    "ny_reopen = pd.read_csv('./data/sentiment_data/NY_reopen_sentiment.csv')\n",
    "\n",
    "mi_shutdown = pd.read_csv('./data/sentiment_data/MI_shutdown_sentiment.csv')\n",
    "oh_shutdown = pd.read_csv('./data/sentiment_data/OH_shutdown_sentiment.csv')\n",
    "tx_shutdown = pd.read_csv('./data/sentiment_data/TX_shutdown_sentiment.csv')\n",
    "ga_shutdown = pd.read_csv('./data/sentiment_data/GA_shutdown_sentiment.csv')\n",
    "il_shutdown = pd.read_csv('./data/sentiment_data/IL_shutdown_sentiment.csv')\n",
    "nj_shutdown = pd.read_csv('./data/sentiment_data/NJ_shutdown_sentiment.csv')\n",
    "ny_shutdown = pd.read_csv('./data/sentiment_data/NY_shutdown_sentiment.csv')\n",
    "fl_shutdown = pd.read_csv('./data/sentiment_data/FL_shutdown_sentiment.csv')"
   ]
  },
  {
   "cell_type": "code",
   "execution_count": 39,
   "metadata": {},
   "outputs": [],
   "source": [
    "def rename_date_col(rel_path='./data/sentiment_data'):\n",
    "    # WARNING: IF YOU USED OLD VERSIONS OF THE NOTEBOOK, THIS MAY END UP LABELING\n",
    "    # TWO COLUMNS AS DATE, YOU'LL HAVE TO MANUALLY CLEAN THE DATA. NEED TO PATCH\n",
    "    # THIS IN A LATER VERSION\n",
    "    \n",
    "    # Iterate through all files in folder\n",
    "    filenames = [filename for filename in os.listdir(rel_path) if filename.endswith('csv')]\n",
    "    \n",
    "    # open the file and rename the column, then save it as new csv\n",
    "    for filename in filenames:\n",
    "        data = pd.read_csv(f'./data/sentiment_data/{filename}')\n",
    "        data.rename(columns={'formatted_date' : 'date'}).to_csv(f'./data/sentiment_data/{filename}', index=False)"
   ]
  },
  {
   "cell_type": "code",
   "execution_count": 62,
   "metadata": {},
   "outputs": [],
   "source": [
    "def reorder_cols(rel_path='./data/sentiment_data'):\n",
    "    filenames = [filename for filename in os.listdir(rel_path) if filename.endswith('csv')]\n",
    "    for filename in filenames:\n",
    "        data = pd.read_csv(f'{rel_path}/{filename}')\n",
    "        data[column_order].to_csv(f'{rel_path}/ordered/{filename.split(\".\")[0]}_ordered.csv', index=False)"
   ]
  },
  {
   "cell_type": "code",
   "execution_count": 41,
   "metadata": {},
   "outputs": [],
   "source": [
    "rename_date_col()"
   ]
  },
  {
   "cell_type": "code",
   "execution_count": 86,
   "metadata": {},
   "outputs": [],
   "source": [
    "reorder_cols()"
   ]
  },
  {
   "cell_type": "code",
   "execution_count": 59,
   "metadata": {},
   "outputs": [],
   "source": [
    "def combine_and_add_cols(rel_path='./data/sentiment_data'):\n",
    "    '''\n",
    "    This function combines and adds columns to the csvs that\n",
    "    contain sentiment analysis data. Specifically, this function\n",
    "    adds the following features:\n",
    "    \n",
    "    date_ord: creates an ordinal value from the date column\n",
    "    \n",
    "    -----------------------\n",
    "    Parameters:\n",
    "    \n",
    "    rel_path : str, the path where all of your csvs are stored\n",
    "    '''    \n",
    "    # Getting all of a state's filenames\n",
    "    filenames = [filename for filename in os.listdir(rel_path) if filename.endswith('.csv')]\n",
    "    \n",
    "    # Create new df so the final df doesn't keep appending if you need to run again\n",
    "    # First, we'll need to get the headers - thanks Tyler on SO for this\n",
    "    # https://stackoverflow.com/questions/24962908/how-can-i-read-only-the-header-column-of-a-csv-file-using-python\n",
    "#     with open(f'{rel_path}/{filenames[0]}', 'r') as f:\n",
    "#         reader = csv.DictReader(f)\n",
    "#         fieldnames = reader.fieldnames\n",
    "\n",
    "#     # Write a clean df\n",
    "#     pd.DataFrame(columns=fieldnames + ['']).to_csv(f'{rel_path}/combined/all_states_and_dates_sentiment.csv', index=False) # THIS DIDNT\" NEED TO BE A VARIABLE ++++ REMOVE WHEN DONE\n",
    "    \n",
    "    # We'll need this dict for later, the values are organized as [shutdown_date_announced, reopening_date]\n",
    "    timeline_dict = {\n",
    "        'FL': ['2020-04-01', '2020-04-29'],\n",
    "        'TX': ['2020-03-31', '2020-05-18'],\n",
    "        'NJ': ['2020-03-16', '2020-06-09'],\n",
    "        'NY': ['2020-03-22', '2020-06-13'],\n",
    "        'IL': ['2020-03-20', '2020-05-29'],\n",
    "        'GA': ['2020-04-02', '2020-06-01'],\n",
    "        'OH': ['2020-03-22', '2020-05-12'],\n",
    "        'MI': ['2020-03-23', '2020-06-01']\n",
    "    }\n",
    "        \n",
    "    # Main combination loop\n",
    "    for filename in filenames:\n",
    "        df = pd.read_csv(f'{rel_path}/{filename}')\n",
    "        \n",
    "        #-----------IS REOPEN-------------\n",
    "        '''\n",
    "        We want to add a column that tells us if the row is \n",
    "        from reopening or shutdown data, we'll do this by\n",
    "        referencing the filenames since that data is included there\n",
    "        '''\n",
    "        \n",
    "        if filename.split('_')[1] == 'shutdown':\n",
    "            df['is_reopen'] = False\n",
    "            is_reopen = False # Setting this for later use\n",
    "        else:\n",
    "            df['is_reopen'] = True\n",
    "            is_reopen = True # Setting this for later use\n",
    "            \n",
    "        \n",
    "        #--------ORDINAL NORMALIZATION-----------\n",
    "        '''\n",
    "        The following code will set the shutdown/reopening \n",
    "        date as 0, so we can align states on a graph based on this date.\n",
    "        '''\n",
    "        \n",
    "        # converting date to datetime\n",
    "        df['date'] = pd.to_datetime(df['date'], errors='coerce')\n",
    "\n",
    "        # setting date as index\n",
    "        df.set_index('date', inplace=True, drop=False)\n",
    "        \n",
    "        # State name pulled from filename\n",
    "        state_name = filename.split('_')[0]\n",
    "        \n",
    "        announce_date = timeline_dict[state_name][is_reopen]\n",
    "        \n",
    "        # Setting the announcement day and hour (since not every dataset has noon, \n",
    "        # we're using the last tweet from the announcement day as our midpoint\n",
    "        announcement_day_hour = df[f'{announce_date}']['date'][len(df[announce_date])//2] # this will pick the middle entry from the announcement day\n",
    "\n",
    "        # Take the time delta in seconds divided by 60 ** 2 to get nubmer of hours\n",
    "        df['date_announcement_normalized'] = df.apply(lambda x: (x['date'] - announcement_day_hour).total_seconds() // 60 ** 2, axis=1)\n",
    "\n",
    "            \n",
    "        #----------WRITE TO FINAL DF--------\n",
    "        \n",
    "        if filename == filenames[0]:\n",
    "            # Write to final df\n",
    "            df.to_csv(f'{rel_path}/combined/all_states_and_dates_sentiment.csv', index=False)\n",
    "        else:\n",
    "            # Append to final df\n",
    "            df.to_csv(f'{rel_path}/combined/all_states_and_dates_sentiment.csv', index=False, mode='a', header=False)"
   ]
  },
  {
   "cell_type": "code",
   "execution_count": 87,
   "metadata": {},
   "outputs": [],
   "source": [
    "combine_and_add_cols('./data/sentiment_data/ordered')"
   ]
  },
  {
   "cell_type": "markdown",
   "metadata": {},
   "source": [
    "## Looking at some summary statistics for our full dataset\n",
    "This is the first time we have it all together, so let's check it out!\n"
   ]
  },
  {
   "cell_type": "code",
   "execution_count": 92,
   "metadata": {},
   "outputs": [],
   "source": [
    "df = pd.read_csv('./data/sentiment_data/ordered/combined/all_states_and_dates_sentiment.csv')"
   ]
  },
  {
   "cell_type": "code",
   "execution_count": 124,
   "metadata": {},
   "outputs": [
    {
     "data": {
      "text/html": [
       "<div>\n",
       "<style scoped>\n",
       "    .dataframe tbody tr th:only-of-type {\n",
       "        vertical-align: middle;\n",
       "    }\n",
       "\n",
       "    .dataframe tbody tr th {\n",
       "        vertical-align: top;\n",
       "    }\n",
       "\n",
       "    .dataframe thead th {\n",
       "        text-align: right;\n",
       "    }\n",
       "</style>\n",
       "<table border=\"1\" class=\"dataframe\">\n",
       "  <thead>\n",
       "    <tr style=\"text-align: right;\">\n",
       "      <th></th>\n",
       "      <th>neg_score</th>\n",
       "      <th>neu_score</th>\n",
       "      <th>pos_score</th>\n",
       "      <th>compound_score</th>\n",
       "    </tr>\n",
       "  </thead>\n",
       "  <tbody>\n",
       "    <tr>\n",
       "      <th>count</th>\n",
       "      <td>1.278205e+06</td>\n",
       "      <td>1.278205e+06</td>\n",
       "      <td>1.278205e+06</td>\n",
       "      <td>1.278205e+06</td>\n",
       "    </tr>\n",
       "    <tr>\n",
       "      <th>mean</th>\n",
       "      <td>8.214448e-02</td>\n",
       "      <td>7.929372e-01</td>\n",
       "      <td>1.249187e-01</td>\n",
       "      <td>1.209701e-01</td>\n",
       "    </tr>\n",
       "    <tr>\n",
       "      <th>std</th>\n",
       "      <td>1.166759e-01</td>\n",
       "      <td>1.631804e-01</td>\n",
       "      <td>1.397595e-01</td>\n",
       "      <td>5.109693e-01</td>\n",
       "    </tr>\n",
       "    <tr>\n",
       "      <th>min</th>\n",
       "      <td>0.000000e+00</td>\n",
       "      <td>0.000000e+00</td>\n",
       "      <td>0.000000e+00</td>\n",
       "      <td>-9.999000e-01</td>\n",
       "    </tr>\n",
       "    <tr>\n",
       "      <th>25%</th>\n",
       "      <td>0.000000e+00</td>\n",
       "      <td>6.860000e-01</td>\n",
       "      <td>0.000000e+00</td>\n",
       "      <td>-2.263000e-01</td>\n",
       "    </tr>\n",
       "    <tr>\n",
       "      <th>50%</th>\n",
       "      <td>0.000000e+00</td>\n",
       "      <td>8.000000e-01</td>\n",
       "      <td>9.400000e-02</td>\n",
       "      <td>0.000000e+00</td>\n",
       "    </tr>\n",
       "    <tr>\n",
       "      <th>75%</th>\n",
       "      <td>1.390000e-01</td>\n",
       "      <td>9.280000e-01</td>\n",
       "      <td>2.060000e-01</td>\n",
       "      <td>5.574000e-01</td>\n",
       "    </tr>\n",
       "    <tr>\n",
       "      <th>max</th>\n",
       "      <td>1.000000e+00</td>\n",
       "      <td>1.000000e+00</td>\n",
       "      <td>1.000000e+00</td>\n",
       "      <td>9.999000e-01</td>\n",
       "    </tr>\n",
       "  </tbody>\n",
       "</table>\n",
       "</div>"
      ],
      "text/plain": [
       "          neg_score     neu_score     pos_score  compound_score\n",
       "count  1.278205e+06  1.278205e+06  1.278205e+06    1.278205e+06\n",
       "mean   8.214448e-02  7.929372e-01  1.249187e-01    1.209701e-01\n",
       "std    1.166759e-01  1.631804e-01  1.397595e-01    5.109693e-01\n",
       "min    0.000000e+00  0.000000e+00  0.000000e+00   -9.999000e-01\n",
       "25%    0.000000e+00  6.860000e-01  0.000000e+00   -2.263000e-01\n",
       "50%    0.000000e+00  8.000000e-01  9.400000e-02    0.000000e+00\n",
       "75%    1.390000e-01  9.280000e-01  2.060000e-01    5.574000e-01\n",
       "max    1.000000e+00  1.000000e+00  1.000000e+00    9.999000e-01"
      ]
     },
     "execution_count": 124,
     "metadata": {},
     "output_type": "execute_result"
    }
   ],
   "source": [
    "df[['neg_score', 'neu_score', 'pos_score', 'compound_score']].describe()"
   ]
  },
  {
   "cell_type": "markdown",
   "metadata": {},
   "source": [
    "The **average compound score across all of the states observed was ~.12**, which is just slightly positive!"
   ]
  },
  {
   "cell_type": "code",
   "execution_count": 95,
   "metadata": {},
   "outputs": [],
   "source": [
    "group = df.groupby(['state', 'is_reopen']).mean()['compound_score'] # Grouping by state and whether the state is in shutdown/reopening phase"
   ]
  },
  {
   "cell_type": "code",
   "execution_count": 99,
   "metadata": {},
   "outputs": [],
   "source": [
    "avg_shutdown = [group[state][0] for state in df.state.unique()] # Create list of each state's avg sentiment during shutdown"
   ]
  },
  {
   "cell_type": "code",
   "execution_count": 100,
   "metadata": {},
   "outputs": [],
   "source": [
    "avg_reopen = [group[state][1] for state in df.state.unique()] # Create list of each state's avg sentiment during reopening"
   ]
  },
  {
   "cell_type": "code",
   "execution_count": 112,
   "metadata": {},
   "outputs": [],
   "source": [
    "baseline_sentiment = pd.DataFrame(index=df.state.unique()) # New df with states as indicies"
   ]
  },
  {
   "cell_type": "code",
   "execution_count": 113,
   "metadata": {},
   "outputs": [],
   "source": [
    "baseline_sentiment['Average Sentiment Around Shutdown'] = avg_shutdown"
   ]
  },
  {
   "cell_type": "code",
   "execution_count": 114,
   "metadata": {},
   "outputs": [],
   "source": [
    "baseline_sentiment['Average Sentiment Around Reopening'] = avg_reopen"
   ]
  },
  {
   "cell_type": "code",
   "execution_count": 121,
   "metadata": {},
   "outputs": [
    {
     "data": {
      "image/png": "[encoded data removed]",
      "text/plain": [
       "<Figure size 576x432 with 1 Axes>"
      ]
     },
     "metadata": {},
     "output_type": "display_data"
    }
   ],
   "source": [
    "style.use(\"fivethirtyeight\")\n",
    "baseline_sentiment.plot(kind='bar',\n",
    "                       figsize=(8, 6),\n",
    "                       title='Average Sentiment by State During Shutdown and Reopening Phases',\n",
    "                       legend=['Average Sentiment during Shutdown'])\n",
    "plt.tight_layout();"
   ]
  },
  {
   "cell_type": "markdown",
   "metadata": {},
   "source": [
    "We see that the average compound sentiment in Georgia, Illinois, and Michigan was **much lower during the reopening phase than it was during the shutdown phase**. In general, **all states except Michigan maintained a positive average compound sentiment**. Michigan's average sentiment during reopening dipped into neutral territory just barely."
   ]
  },
  {
   "cell_type": "markdown",
   "metadata": {},
   "source": [
    "## What's next?\n",
    "\n",
    "We've got all of our data, we're going to visualize it all in Tableau, so we've got some conclusions to make!"
   ]
  }
 ],
 "metadata": {
  "kernelspec": {
   "display_name": "Python 3",
   "language": "python",
   "name": "python3"
  },
  "language_info": {
   "codemirror_mode": {
    "name": "ipython",
    "version": 3
   },
   "file_extension": ".py",
   "mimetype": "text/x-python",
   "name": "python",
   "nbconvert_exporter": "python",
   "pygments_lexer": "ipython3",
   "version": "3.7.9"
  }
 },
 "nbformat": 4,
 "nbformat_minor": 4
}
