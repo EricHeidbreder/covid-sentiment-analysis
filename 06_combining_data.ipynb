{
 "cells": [
  {
   "cell_type": "markdown",
   "metadata": {},
   "source": [
    "## **Combining Data for use in Tableau**"
   ]
  },
  {
   "cell_type": "markdown",
   "metadata": {},
   "source": [
    "We'd like to create an interactive dashboard for tableau, but to do that, we'll need to combine our data and add some new columns. Some features we'll need to add to the data include:\n",
    "* `date_ord` - an ordinal column for the date that can be used to align states based on their closing/reopening announcement date. Thinking of using a +/- shutdown date to create this column.\n",
    "* `is_reopen` - a boolean column that will say whether the row is from the state's opening or closing phase. Will do this by applying a True/False to all reopening or closing dataframes before doing a union."
   ]
  },
  {
   "cell_type": "code",
   "execution_count": 261,
   "metadata": {},
   "outputs": [],
   "source": [
    "import os\n",
    "import csv\n",
    "import pandas as pd\n",
    "import numpy as np\n",
    "from datetime import datetime, timedelta, timezone"
   ]
  },
  {
   "cell_type": "code",
   "execution_count": 240,
   "metadata": {},
   "outputs": [],
   "source": [
    "d1 = datetime(2020, 5, 23)"
   ]
  },
  {
   "cell_type": "code",
   "execution_count": 241,
   "metadata": {},
   "outputs": [],
   "source": [
    "d2 = datetime(2020, 5, 26)"
   ]
  },
  {
   "cell_type": "code",
   "execution_count": 242,
   "metadata": {},
   "outputs": [
    {
     "data": {
      "text/plain": [
       "-4320.0"
      ]
     },
     "execution_count": 242,
     "metadata": {},
     "output_type": "execute_result"
    }
   ],
   "source": [
    "(d1 - d2).total_seconds() / 60"
   ]
  },
  {
   "cell_type": "code",
   "execution_count": 281,
   "metadata": {},
   "outputs": [],
   "source": [
    "test = pd.read_csv('./data/sentiment_data/GA_reopen_sentiment.csv')"
   ]
  },
  {
   "cell_type": "code",
   "execution_count": 282,
   "metadata": {},
   "outputs": [],
   "source": [
    "timeline_dict = {\n",
    "    'FL': ['2020-04-01', '2020-04-29'],\n",
    "    'TX': ['2020-03-31', '2020-05-18'],\n",
    "    'NJ': ['2020-03-16', '2020-06-09'],\n",
    "    'NY': ['2020-03-22', '2020-06-13'],\n",
    "    'IL': ['2020-03-20', '2020-05-29'],\n",
    "    'GA': ['2020-04-02', '2020-06-01'],\n",
    "    'OH': ['2020-03-22', '2020-05-26'],\n",
    "    'MI': ['2020-03-23', '2020-06-08']\n",
    "}"
   ]
  },
  {
   "cell_type": "code",
   "execution_count": 283,
   "metadata": {},
   "outputs": [],
   "source": [
    "# converting date to datetime\n",
    "test['date'] = pd.to_datetime(test['date'])\n",
    "\n",
    "# setting date as index\n",
    "test.set_index('date', inplace=True, drop=False)\n",
    "\n",
    "# converting date to ordinal\n",
    "test['date_announcement_normalized'] = test['date'].apply(lambda x: x.toordinal())"
   ]
  },
  {
   "cell_type": "code",
   "execution_count": 284,
   "metadata": {},
   "outputs": [
    {
     "data": {
      "text/plain": [
       "date\n",
       "2020-06-02 00:00:18-04:00    737578\n",
       "2020-06-02 00:00:39-04:00    737578\n",
       "2020-06-02 00:01:23-04:00    737578\n",
       "2020-06-02 00:01:28-04:00    737578\n",
       "2020-06-02 00:02:34-04:00    737578\n",
       "                              ...  \n",
       "2020-06-02 23:58:48-04:00    737578\n",
       "2020-06-02 23:59:19-04:00    737578\n",
       "2020-06-02 23:59:40-04:00    737578\n",
       "2020-06-02 23:59:49-04:00    737578\n",
       "2020-06-02 23:59:53-04:00    737578\n",
       "Name: date_announcement_normalized, Length: 6174, dtype: int64"
      ]
     },
     "execution_count": 284,
     "metadata": {},
     "output_type": "execute_result"
    }
   ],
   "source": [
    "test['date_announcement_normalized']['2020-06-02']"
   ]
  },
  {
   "cell_type": "code",
   "execution_count": 285,
   "metadata": {},
   "outputs": [],
   "source": [
    "test['hour']= test['date'].dt.strftime('%H')"
   ]
  },
  {
   "cell_type": "code",
   "execution_count": 286,
   "metadata": {},
   "outputs": [],
   "source": [
    "# Announcement Date Ordinal\n",
    "announcement_day = test[f'{timeline_dict[\"GA\"][1]} 12']['date'][0]"
   ]
  },
  {
   "cell_type": "code",
   "execution_count": 287,
   "metadata": {},
   "outputs": [],
   "source": [
    "day_2 = test['2020-06-02 10']['date'][0]"
   ]
  },
  {
   "cell_type": "code",
   "execution_count": 291,
   "metadata": {},
   "outputs": [],
   "source": [
    "test['date_announcement_normalized'] = test.apply(lambda x: (x['date'] - announcement_day).total_seconds() // 60 ** 2, axis=1)"
   ]
  },
  {
   "cell_type": "code",
   "execution_count": 280,
   "metadata": {},
   "outputs": [
    {
     "data": {
      "text/plain": [
       "737577"
      ]
     },
     "execution_count": 280,
     "metadata": {},
     "output_type": "execute_result"
    }
   ],
   "source": [
    "announcement_day_ord"
   ]
  },
  {
   "cell_type": "code",
   "execution_count": 237,
   "metadata": {},
   "outputs": [
    {
     "data": {
      "text/plain": [
       "'73757712'"
      ]
     },
     "execution_count": 237,
     "metadata": {},
     "output_type": "execute_result"
    }
   ],
   "source": [
    "announcement_day_hour_ord"
   ]
  },
  {
   "cell_type": "code",
   "execution_count": 292,
   "metadata": {},
   "outputs": [
    {
     "data": {
      "text/plain": [
       "date\n",
       "2020-05-28 20:00:04-04:00    -89.0\n",
       "2020-05-28 20:00:07-04:00    -89.0\n",
       "2020-05-28 20:00:16-04:00    -89.0\n",
       "2020-05-28 20:00:34-04:00    -88.0\n",
       "2020-05-28 20:00:37-04:00    -88.0\n",
       "                             ...  \n",
       "2020-06-10 19:57:53-04:00    223.0\n",
       "2020-06-10 19:57:54-04:00    223.0\n",
       "2020-06-10 19:58:09-04:00    223.0\n",
       "2020-06-10 19:59:11-04:00    223.0\n",
       "2020-06-10 19:59:24-04:00    223.0\n",
       "Name: date_announcement_normalized, Length: 86435, dtype: float64"
      ]
     },
     "execution_count": 292,
     "metadata": {},
     "output_type": "execute_result"
    }
   ],
   "source": [
    "test['date_announcement_normalized']"
   ]
  },
  {
   "cell_type": "code",
   "execution_count": 173,
   "metadata": {},
   "outputs": [],
   "source": [
    "if 'GA_shutdown_sentiment'.split('_')[1] == 'shutdown':\n",
    "    test['is_reopen'] = False\n",
    "else:\n",
    "    df['is_reopen'] = True"
   ]
  },
  {
   "cell_type": "code",
   "execution_count": 62,
   "metadata": {},
   "outputs": [
    {
     "data": {
      "text/plain": [
       "date\n",
       "2020-05-28 20:00:04-04:00    True\n",
       "2020-05-28 20:00:07-04:00    True\n",
       "2020-05-28 20:00:16-04:00    True\n",
       "2020-05-28 20:00:34-04:00    True\n",
       "2020-05-28 20:00:37-04:00    True\n",
       "                             ... \n",
       "2020-06-10 19:57:53-04:00    True\n",
       "2020-06-10 19:57:54-04:00    True\n",
       "2020-06-10 19:58:09-04:00    True\n",
       "2020-06-10 19:59:11-04:00    True\n",
       "2020-06-10 19:59:24-04:00    True\n",
       "Name: is_reopen, Length: 86435, dtype: bool"
      ]
     },
     "execution_count": 62,
     "metadata": {},
     "output_type": "execute_result"
    }
   ],
   "source": [
    "test['is_reopen']"
   ]
  },
  {
   "cell_type": "code",
   "execution_count": 304,
   "metadata": {},
   "outputs": [],
   "source": [
    "def combine_and_add_cols(rel_path='./data/sentiment_data'):\n",
    "    '''\n",
    "    This function combines and adds columns to the csvs that\n",
    "    contain sentiment analysis data. Specifically, this function\n",
    "    adds the following features:\n",
    "    \n",
    "    date_ord: creates an ordinal value from the date column\n",
    "    \n",
    "    -----------------------\n",
    "    Parameters:\n",
    "    \n",
    "    rel_path : str, the path where all of your csvs are stored\n",
    "    '''    \n",
    "    # Getting all of a state's filenames\n",
    "    filenames = [filename for filename in os.listdir(rel_path) if filename.endswith('.csv')]\n",
    "    \n",
    "    # Create new df so the final df doesn't keep appending if you need to run again\n",
    "    # First, we'll need to get the headers - thanks Tyler on SO for this\n",
    "    # https://stackoverflow.com/questions/24962908/how-can-i-read-only-the-header-column-of-a-csv-file-using-python\n",
    "#     with open(f'{rel_path}/{filenames[0]}', 'r') as f:\n",
    "#         reader = csv.DictReader(f)\n",
    "#         fieldnames = reader.fieldnames\n",
    "\n",
    "#     # Write a clean df\n",
    "#     pd.DataFrame(columns=fieldnames + ['']).to_csv(f'{rel_path}/combined/all_states_and_dates_sentiment.csv', index=False) # THIS DIDNT\" NEED TO BE A VARIABLE ++++ REMOVE WHEN DONE\n",
    "    \n",
    "    # We'll need this dict for later, the values are organized as [shutdown_date_announced, reopening_date]\n",
    "    timeline_dict = {\n",
    "        'FL': ['2020-04-01', '2020-04-29'],\n",
    "        'TX': ['2020-03-31', '2020-05-18'],\n",
    "        'NJ': ['2020-03-16', '2020-06-09'],\n",
    "        'NY': ['2020-03-22', '2020-06-13'],\n",
    "        'IL': ['2020-03-20', '2020-05-29'],\n",
    "        'GA': ['2020-04-02', '2020-06-01'],\n",
    "        'OH': ['2020-03-22', '2020-05-26'],\n",
    "        'MI': ['2020-03-23', '2020-06-08']\n",
    "    }\n",
    "        \n",
    "    # Main combination loop\n",
    "    for filename in filenames:\n",
    "        df = pd.read_csv(f'{rel_path}/{filename}')\n",
    "        \n",
    "        #-----------IS REOPEN-------------\n",
    "        '''\n",
    "        We want to add a column that tells us if the row is \n",
    "        from reopening or shutdown data, we'll do this by\n",
    "        referencing the filenames since that data is included there\n",
    "        '''\n",
    "        \n",
    "        if filename.split('_')[1] == 'shutdown':\n",
    "            df['is_reopen'] = False\n",
    "            is_reopen = False # Setting this for later use\n",
    "        else:\n",
    "            df['is_reopen'] = True\n",
    "            is_reopen = True # Setting this for later use\n",
    "            \n",
    "        \n",
    "        #--------ORDINAL NORMALIZATION-----------\n",
    "        '''\n",
    "        The following code will set the shutdown/reopening \n",
    "        date as 0, so we can align states on a graph based on this date.\n",
    "        '''\n",
    "        \n",
    "        # converting date to datetime\n",
    "        df['date'] = pd.to_datetime(df['date'])\n",
    "\n",
    "        # setting date as index\n",
    "        df.set_index('date', inplace=True, drop=False)\n",
    "        \n",
    "        # State name pulled from filename\n",
    "        state_name = filename.split('_')[0]\n",
    "        \n",
    "        announce_date = timeline_dict[state_name][is_reopen]\n",
    "        \n",
    "        # Setting the announcement day and hour (since not every dataset has noon, \n",
    "        # we're using the last tweet from the announcement day as our midpoint\n",
    "        announcement_day_hour = df[f'{announce_date}']['date'][len(df[announce_date])//2] # this will pick the middle entry from the announcement day\n",
    "\n",
    "        # Take the time delta in seconds divided by 60 ** 2 to get nubmer of hours\n",
    "        df['date_announcement_normalized'] = df.apply(lambda x: (x['date'] - announcement_day_hour).total_seconds() // 60 ** 2, axis=1)\n",
    "\n",
    "            \n",
    "        #----------WRITE TO FINAL DF--------\n",
    "        \n",
    "        if filename == filenames[0]:\n",
    "            # Write to final df\n",
    "            df.to_csv(f'{rel_path}/combined/all_states_and_dates_sentiment.csv', index=False)\n",
    "        else:\n",
    "            # Append to final df\n",
    "            df.to_csv(f'{rel_path}/combined/all_states_and_dates_sentiment.csv', index=False, mode='a', header=False)"
   ]
  },
  {
   "cell_type": "code",
   "execution_count": 305,
   "metadata": {},
   "outputs": [],
   "source": [
    "combine_and_add_cols('./data/sentiment_data')"
   ]
  }
 ],
 "metadata": {
  "kernelspec": {
   "display_name": "Python 3",
   "language": "python",
   "name": "python3"
  },
  "language_info": {
   "codemirror_mode": {
    "name": "ipython",
    "version": 3
   },
   "file_extension": ".py",
   "mimetype": "text/x-python",
   "name": "python",
   "nbconvert_exporter": "python",
   "pygments_lexer": "ipython3",
   "version": "3.7.9"
  }
 },
 "nbformat": 4,
 "nbformat_minor": 4
}
