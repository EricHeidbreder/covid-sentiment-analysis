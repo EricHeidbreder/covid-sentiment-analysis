{
 "cells": [
  {
   "cell_type": "markdown",
   "metadata": {},
   "source": [
    "## **Combining Data for use in Tableau**"
   ]
  },
  {
   "cell_type": "markdown",
   "metadata": {},
   "source": [
    "We'd like to create an interactive dashboard for tableau, but to do that, we'll need to combine our data and add some new columns. Some features we'll need to add to the data include:\n",
    "* `date_announcement_normalized` - an ordinal column for the date that can be used to align states based on their closing/reopening announcement date. Thinking of using a +/- shutdown date to create this column.\n",
    "* `is_reopen` - a boolean column that will say whether the row is from the state's opening or closing phase. Will do this by applying a True/False to all reopening or closing dataframes before doing a union."
   ]
  },
  {
   "cell_type": "code",
   "execution_count": 22,
   "metadata": {},
   "outputs": [],
   "source": [
    "import os\n",
    "import csv\n",
    "import pandas as pd\n",
    "import numpy as np\n",
    "from datetime import datetime, timedelta, timezone"
   ]
  },
  {
   "cell_type": "code",
   "execution_count": 30,
   "metadata": {},
   "outputs": [
    {
     "name": "stderr",
     "output_type": "stream",
     "text": [
      "C:\\ProgramData\\Anaconda3\\lib\\site-packages\\IPython\\core\\interactiveshell.py:3072: DtypeWarning: Columns (3,4,5,6,8,12,13,18,19,20,21,22,23,24,25) have mixed types.Specify dtype option on import or set low_memory=False.\n",
      "  interactivity=interactivity, compiler=compiler, result=result)\n"
     ]
    }
   ],
   "source": [
    "mi_reopen = pd.read_csv('./data/sentiment_data/MI_reopen_sentiment.csv')\n",
    "oh_reopen = pd.read_csv('./data/sentiment_data/OH_reopen_sentiment.csv')\n",
    "mi_shutdown = pd.read_csv('./data/sentiment_data/MI_shutdown_sentiment.csv')\n",
    "oh_shutdown = pd.read_csv('./data/sentiment_data/OH_shutdown_sentiment.csv')\n",
    "tx_reopen = pd.read_csv('./data/sentiment_data/TX_reopen_sentiment.csv')\n",
    "ga_reopen = pd.read_csv('./data/sentiment_data/GA_reopen_sentiment.csv')\n",
    "il_reopen = pd.read_csv('./data/sentiment_data/IL_reopen_sentiment.csv')\n",
    "tx_shutdown = pd.read_csv('./data/sentiment_data/TX_shutdown_sentiment.csv')\n",
    "ga_shutdown = pd.read_csv('./data/sentiment_data/GA_shutdown_sentiment.csv')\n",
    "il_shutdown = pd.read_csv('./data/sentiment_data/IL_shutdown_sentiment.csv')"
   ]
  },
  {
   "cell_type": "code",
   "execution_count": 45,
   "metadata": {},
   "outputs": [],
   "source": [
    "cities_to_remove = ['eagle river ']"
   ]
  },
  {
   "cell_type": "code",
   "execution_count": 46,
   "metadata": {},
   "outputs": [],
   "source": [
    "df = pd.read_csv(f'./data/sentiment_data//MI_shutdown_sentiment.csv')\n",
    "df.drop_duplicates(subset=['username', 'date'], keep='first', inplace=True) # need to remove any potential duplicates from overlapping city areas\n",
    "\n",
    "# Clean up final df\n",
    "df = df[(df['username'] != 'username') & # Removes headers leftover from scraping\n",
    "       (~df['city'].isin(cities_to_remove))] # Removes the cities that we need to remove\n",
    "df.dropna(subset=['text', 'date'], inplace=True) # There were some nulls in the text and date column that are likely the result of deleted/private tweets\n",
    "df.to_csv(f'./data/sentiment_data//MI_shutdown_sentiment2.csv', index=False)"
   ]
  },
  {
   "cell_type": "code",
   "execution_count": 35,
   "metadata": {},
   "outputs": [],
   "source": [
    "# mi_reopen.rename(columns={'formatted_date' : 'date'}).to_csv('./data/sentiment_data/MI_reopen_sentiment.csv', index=False)\n",
    "# oh_reopen.rename(columns={'formatted_date' : 'date'}).to_csv('./data/sentiment_data/OH_reopen_sentiment.csv', index=False)\n",
    "# mi_shutdown.rename(columns={'formatted_date' : 'date'}).to_csv('./data/sentiment_data/MI_shutdown_sentiment.csv', index=False)\n",
    "# oh_shutdown.rename(columns={'formatted_date' : 'date'}).to_csv('./data/sentiment_data/OH_shutdown_sentiment.csv', index=False)\n",
    "# tx_reopen.rename(columns={'formatted_date' : 'date'}).to_csv('./data/sentiment_data/TX_reopen_sentiment.csv', index=False)\n",
    "# il_reopen.rename(columns={'formatted_date' : 'date'}).to_csv('./data/sentiment_data/IL_reopen_sentiment.csv', index=False)\n",
    "# ga_reopen.rename(columns={'formatted_date' : 'date'}).to_csv('./data/sentiment_data/GA_reopen_sentiment.csv', index=False)\n",
    "# tx_shutdown.rename(columns={'formatted_date' : 'date'}).to_csv('./data/sentiment_data/TX_shutdown_sentiment.csv', index=False)\n",
    "# il_shutdown.rename(columns={'formatted_date' : 'date'}).to_csv('./data/sentiment_data/IL_shutdown_sentiment.csv', index=False)\n",
    "ga_shutdown.rename(columns={'formatted_date' : 'date'}).to_csv('./data/sentiment_data/GA_shutdown_sentiment.csv', index=False)"
   ]
  },
  {
   "cell_type": "code",
   "execution_count": 27,
   "metadata": {},
   "outputs": [],
   "source": [
    "def rename_date_col(rel_path='./data/sentiment_data'):\n",
    "    filenames = [filename for filename in os.listdir(rel_path) if filename.endswith('.csv')]\n",
    "    for filename in filenames:\n",
    "        data = pd.read_csv(f'./data/sentiment_data/{filename}')\n",
    "        data.rename(columns={'formatted_date' : 'date'}).to_csv('./data/sentiment_data/MI_reopen_sentiment.csv', index=False)"
   ]
  },
  {
   "cell_type": "code",
   "execution_count": 31,
   "metadata": {},
   "outputs": [
    {
     "name": "stderr",
     "output_type": "stream",
     "text": [
      "C:\\ProgramData\\Anaconda3\\lib\\site-packages\\IPython\\core\\interactiveshell.py:3263: DtypeWarning: Columns (3,4,5,6,8,12,13,18,19,20,21,22,23,24,25) have mixed types.Specify dtype option on import or set low_memory=False.\n",
      "  if (await self.run_code(code, result,  async_=asy)):\n"
     ]
    }
   ],
   "source": [
    "rename_date_col()"
   ]
  },
  {
   "cell_type": "code",
   "execution_count": 51,
   "metadata": {},
   "outputs": [],
   "source": [
    "def combine_and_add_cols(rel_path='./data/sentiment_data'):\n",
    "    '''\n",
    "    This function combines and adds columns to the csvs that\n",
    "    contain sentiment analysis data. Specifically, this function\n",
    "    adds the following features:\n",
    "    \n",
    "    date_ord: creates an ordinal value from the date column\n",
    "    \n",
    "    -----------------------\n",
    "    Parameters:\n",
    "    \n",
    "    rel_path : str, the path where all of your csvs are stored\n",
    "    '''    \n",
    "    # Getting all of a state's filenames\n",
    "    filenames = [filename for filename in os.listdir(rel_path) if filename.endswith('.csv')]\n",
    "    \n",
    "    # Create new df so the final df doesn't keep appending if you need to run again\n",
    "    # First, we'll need to get the headers - thanks Tyler on SO for this\n",
    "    # https://stackoverflow.com/questions/24962908/how-can-i-read-only-the-header-column-of-a-csv-file-using-python\n",
    "#     with open(f'{rel_path}/{filenames[0]}', 'r') as f:\n",
    "#         reader = csv.DictReader(f)\n",
    "#         fieldnames = reader.fieldnames\n",
    "\n",
    "#     # Write a clean df\n",
    "#     pd.DataFrame(columns=fieldnames + ['']).to_csv(f'{rel_path}/combined/all_states_and_dates_sentiment.csv', index=False) # THIS DIDNT\" NEED TO BE A VARIABLE ++++ REMOVE WHEN DONE\n",
    "    \n",
    "    # We'll need this dict for later, the values are organized as [shutdown_date_announced, reopening_date]\n",
    "    timeline_dict = {\n",
    "        'FL': ['2020-04-01', '2020-04-29'],\n",
    "        'TX': ['2020-03-31', '2020-05-18'],\n",
    "        'NJ': ['2020-03-16', '2020-06-09'],\n",
    "        'NY': ['2020-03-22', '2020-06-13'],\n",
    "        'IL': ['2020-03-20', '2020-05-29'],\n",
    "        'GA': ['2020-04-02', '2020-06-01'],\n",
    "        'OH': ['2020-03-22', '2020-05-12'],\n",
    "        'MI': ['2020-03-23', '2020-05-18']\n",
    "    }\n",
    "        \n",
    "    # Main combination loop\n",
    "    for filename in filenames:\n",
    "        df = pd.read_csv(f'{rel_path}/{filename}')\n",
    "        \n",
    "        #-----------IS REOPEN-------------\n",
    "        '''\n",
    "        We want to add a column that tells us if the row is \n",
    "        from reopening or shutdown data, we'll do this by\n",
    "        referencing the filenames since that data is included there\n",
    "        '''\n",
    "        \n",
    "        if filename.split('_')[1] == 'shutdown':\n",
    "            df['is_reopen'] = False\n",
    "            is_reopen = False # Setting this for later use\n",
    "        else:\n",
    "            df['is_reopen'] = True\n",
    "            is_reopen = True # Setting this for later use\n",
    "            \n",
    "        \n",
    "        #--------ORDINAL NORMALIZATION-----------\n",
    "        '''\n",
    "        The following code will set the shutdown/reopening \n",
    "        date as 0, so we can align states on a graph based on this date.\n",
    "        '''\n",
    "        \n",
    "        # converting date to datetime\n",
    "        df['date'] = pd.to_datetime(df['date'])\n",
    "\n",
    "        # setting date as index\n",
    "        df.set_index('date', inplace=True, drop=False)\n",
    "        \n",
    "        # State name pulled from filename\n",
    "        state_name = filename.split('_')[0]\n",
    "        \n",
    "        announce_date = timeline_dict[state_name][is_reopen]\n",
    "        \n",
    "        # Setting the announcement day and hour (since not every dataset has noon, \n",
    "        # we're using the last tweet from the announcement day as our midpoint\n",
    "        announcement_day_hour = df[f'{announce_date}']['date'][len(df[announce_date])//2] # this will pick the middle entry from the announcement day\n",
    "\n",
    "        # Take the time delta in seconds divided by 60 ** 2 to get nubmer of hours\n",
    "        df['date_announcement_normalized'] = df.apply(lambda x: (x['date'] - announcement_day_hour).total_seconds() // 60 ** 2, axis=1)\n",
    "\n",
    "            \n",
    "        #----------WRITE TO FINAL DF--------\n",
    "        \n",
    "        if filename == filenames[0]:\n",
    "            # Write to final df\n",
    "            df.to_csv(f'{rel_path}/combined/all_states_and_dates_sentiment.csv', index=False)\n",
    "        else:\n",
    "            # Append to final df\n",
    "            df.to_csv(f'{rel_path}/combined/all_states_and_dates_sentiment.csv', index=False, mode='a', header=False)"
   ]
  },
  {
   "cell_type": "code",
   "execution_count": 52,
   "metadata": {},
   "outputs": [
    {
     "name": "stderr",
     "output_type": "stream",
     "text": [
      "C:\\ProgramData\\Anaconda3\\lib\\site-packages\\IPython\\core\\interactiveshell.py:3263: DtypeWarning: Columns (3,4,5,6,8,12,13,18,19,20,21,22,23,24,25) have mixed types.Specify dtype option on import or set low_memory=False.\n",
      "  if (await self.run_code(code, result,  async_=asy)):\n"
     ]
    },
    {
     "ename": "ParserError",
     "evalue": "Unknown string format: formatted_date",
     "output_type": "error",
     "traceback": [
      "\u001b[1;31m---------------------------------------------------------------------------\u001b[0m",
      "\u001b[1;31mTypeError\u001b[0m                                 Traceback (most recent call last)",
      "\u001b[1;32mC:\\ProgramData\\Anaconda3\\lib\\site-packages\\pandas\\core\\arrays\\datetimes.py\u001b[0m in \u001b[0;36mobjects_to_datetime64ns\u001b[1;34m(data, dayfirst, yearfirst, utc, errors, require_iso8601, allow_object)\u001b[0m\n\u001b[0;32m   1857\u001b[0m         \u001b[1;32mtry\u001b[0m\u001b[1;33m:\u001b[0m\u001b[1;33m\u001b[0m\u001b[1;33m\u001b[0m\u001b[0m\n\u001b[1;32m-> 1858\u001b[1;33m             \u001b[0mvalues\u001b[0m\u001b[1;33m,\u001b[0m \u001b[0mtz_parsed\u001b[0m \u001b[1;33m=\u001b[0m \u001b[0mconversion\u001b[0m\u001b[1;33m.\u001b[0m\u001b[0mdatetime_to_datetime64\u001b[0m\u001b[1;33m(\u001b[0m\u001b[0mdata\u001b[0m\u001b[1;33m)\u001b[0m\u001b[1;33m\u001b[0m\u001b[1;33m\u001b[0m\u001b[0m\n\u001b[0m\u001b[0;32m   1859\u001b[0m             \u001b[1;31m# If tzaware, these values represent unix timestamps, so we\u001b[0m\u001b[1;33m\u001b[0m\u001b[1;33m\u001b[0m\u001b[1;33m\u001b[0m\u001b[0m\n",
      "\u001b[1;32mpandas\\_libs\\tslibs\\conversion.pyx\u001b[0m in \u001b[0;36mpandas._libs.tslibs.conversion.datetime_to_datetime64\u001b[1;34m()\u001b[0m\n",
      "\u001b[1;31mTypeError\u001b[0m: Unrecognized value type: <class 'str'>",
      "\nDuring handling of the above exception, another exception occurred:\n",
      "\u001b[1;31mParserError\u001b[0m                               Traceback (most recent call last)",
      "\u001b[1;32m<ipython-input-52-7ee6e7fccb43>\u001b[0m in \u001b[0;36m<module>\u001b[1;34m\u001b[0m\n\u001b[1;32m----> 1\u001b[1;33m \u001b[0mcombine_and_add_cols\u001b[0m\u001b[1;33m(\u001b[0m\u001b[1;34m'./data/sentiment_data'\u001b[0m\u001b[1;33m)\u001b[0m\u001b[1;33m\u001b[0m\u001b[1;33m\u001b[0m\u001b[0m\n\u001b[0m",
      "\u001b[1;32m<ipython-input-51-aad0351a668e>\u001b[0m in \u001b[0;36mcombine_and_add_cols\u001b[1;34m(rel_path)\u001b[0m\n\u001b[0;32m     63\u001b[0m \u001b[1;33m\u001b[0m\u001b[0m\n\u001b[0;32m     64\u001b[0m         \u001b[1;31m# converting date to datetime\u001b[0m\u001b[1;33m\u001b[0m\u001b[1;33m\u001b[0m\u001b[1;33m\u001b[0m\u001b[0m\n\u001b[1;32m---> 65\u001b[1;33m         \u001b[0mdf\u001b[0m\u001b[1;33m[\u001b[0m\u001b[1;34m'date'\u001b[0m\u001b[1;33m]\u001b[0m \u001b[1;33m=\u001b[0m \u001b[0mpd\u001b[0m\u001b[1;33m.\u001b[0m\u001b[0mto_datetime\u001b[0m\u001b[1;33m(\u001b[0m\u001b[0mdf\u001b[0m\u001b[1;33m[\u001b[0m\u001b[1;34m'date'\u001b[0m\u001b[1;33m]\u001b[0m\u001b[1;33m)\u001b[0m\u001b[1;33m\u001b[0m\u001b[1;33m\u001b[0m\u001b[0m\n\u001b[0m\u001b[0;32m     66\u001b[0m \u001b[1;33m\u001b[0m\u001b[0m\n\u001b[0;32m     67\u001b[0m         \u001b[1;31m# setting date as index\u001b[0m\u001b[1;33m\u001b[0m\u001b[1;33m\u001b[0m\u001b[1;33m\u001b[0m\u001b[0m\n",
      "\u001b[1;32mC:\\ProgramData\\Anaconda3\\lib\\site-packages\\pandas\\core\\tools\\datetimes.py\u001b[0m in \u001b[0;36mto_datetime\u001b[1;34m(arg, errors, dayfirst, yearfirst, utc, format, exact, unit, infer_datetime_format, origin, cache)\u001b[0m\n\u001b[0;32m    726\u001b[0m             \u001b[0mresult\u001b[0m \u001b[1;33m=\u001b[0m \u001b[0marg\u001b[0m\u001b[1;33m.\u001b[0m\u001b[0mmap\u001b[0m\u001b[1;33m(\u001b[0m\u001b[0mcache_array\u001b[0m\u001b[1;33m)\u001b[0m\u001b[1;33m\u001b[0m\u001b[1;33m\u001b[0m\u001b[0m\n\u001b[0;32m    727\u001b[0m         \u001b[1;32melse\u001b[0m\u001b[1;33m:\u001b[0m\u001b[1;33m\u001b[0m\u001b[1;33m\u001b[0m\u001b[0m\n\u001b[1;32m--> 728\u001b[1;33m             \u001b[0mvalues\u001b[0m \u001b[1;33m=\u001b[0m \u001b[0mconvert_listlike\u001b[0m\u001b[1;33m(\u001b[0m\u001b[0marg\u001b[0m\u001b[1;33m.\u001b[0m\u001b[0m_values\u001b[0m\u001b[1;33m,\u001b[0m \u001b[0mformat\u001b[0m\u001b[1;33m)\u001b[0m\u001b[1;33m\u001b[0m\u001b[1;33m\u001b[0m\u001b[0m\n\u001b[0m\u001b[0;32m    729\u001b[0m             \u001b[0mresult\u001b[0m \u001b[1;33m=\u001b[0m \u001b[0marg\u001b[0m\u001b[1;33m.\u001b[0m\u001b[0m_constructor\u001b[0m\u001b[1;33m(\u001b[0m\u001b[0mvalues\u001b[0m\u001b[1;33m,\u001b[0m \u001b[0mindex\u001b[0m\u001b[1;33m=\u001b[0m\u001b[0marg\u001b[0m\u001b[1;33m.\u001b[0m\u001b[0mindex\u001b[0m\u001b[1;33m,\u001b[0m \u001b[0mname\u001b[0m\u001b[1;33m=\u001b[0m\u001b[0marg\u001b[0m\u001b[1;33m.\u001b[0m\u001b[0mname\u001b[0m\u001b[1;33m)\u001b[0m\u001b[1;33m\u001b[0m\u001b[1;33m\u001b[0m\u001b[0m\n\u001b[0;32m    730\u001b[0m     \u001b[1;32melif\u001b[0m \u001b[0misinstance\u001b[0m\u001b[1;33m(\u001b[0m\u001b[0marg\u001b[0m\u001b[1;33m,\u001b[0m \u001b[1;33m(\u001b[0m\u001b[0mABCDataFrame\u001b[0m\u001b[1;33m,\u001b[0m \u001b[0mabc\u001b[0m\u001b[1;33m.\u001b[0m\u001b[0mMutableMapping\u001b[0m\u001b[1;33m)\u001b[0m\u001b[1;33m)\u001b[0m\u001b[1;33m:\u001b[0m\u001b[1;33m\u001b[0m\u001b[1;33m\u001b[0m\u001b[0m\n",
      "\u001b[1;32mC:\\ProgramData\\Anaconda3\\lib\\site-packages\\pandas\\core\\tools\\datetimes.py\u001b[0m in \u001b[0;36m_convert_listlike_datetimes\u001b[1;34m(arg, format, name, tz, unit, errors, infer_datetime_format, dayfirst, yearfirst, exact)\u001b[0m\n\u001b[0;32m    445\u001b[0m             \u001b[0merrors\u001b[0m\u001b[1;33m=\u001b[0m\u001b[0merrors\u001b[0m\u001b[1;33m,\u001b[0m\u001b[1;33m\u001b[0m\u001b[1;33m\u001b[0m\u001b[0m\n\u001b[0;32m    446\u001b[0m             \u001b[0mrequire_iso8601\u001b[0m\u001b[1;33m=\u001b[0m\u001b[0mrequire_iso8601\u001b[0m\u001b[1;33m,\u001b[0m\u001b[1;33m\u001b[0m\u001b[1;33m\u001b[0m\u001b[0m\n\u001b[1;32m--> 447\u001b[1;33m             \u001b[0mallow_object\u001b[0m\u001b[1;33m=\u001b[0m\u001b[1;32mTrue\u001b[0m\u001b[1;33m,\u001b[0m\u001b[1;33m\u001b[0m\u001b[1;33m\u001b[0m\u001b[0m\n\u001b[0m\u001b[0;32m    448\u001b[0m         )\n\u001b[0;32m    449\u001b[0m \u001b[1;33m\u001b[0m\u001b[0m\n",
      "\u001b[1;32mC:\\ProgramData\\Anaconda3\\lib\\site-packages\\pandas\\core\\arrays\\datetimes.py\u001b[0m in \u001b[0;36mobjects_to_datetime64ns\u001b[1;34m(data, dayfirst, yearfirst, utc, errors, require_iso8601, allow_object)\u001b[0m\n\u001b[0;32m   1861\u001b[0m             \u001b[1;32mreturn\u001b[0m \u001b[0mvalues\u001b[0m\u001b[1;33m.\u001b[0m\u001b[0mview\u001b[0m\u001b[1;33m(\u001b[0m\u001b[1;34m\"i8\"\u001b[0m\u001b[1;33m)\u001b[0m\u001b[1;33m,\u001b[0m \u001b[0mtz_parsed\u001b[0m\u001b[1;33m\u001b[0m\u001b[1;33m\u001b[0m\u001b[0m\n\u001b[0;32m   1862\u001b[0m         \u001b[1;32mexcept\u001b[0m \u001b[1;33m(\u001b[0m\u001b[0mValueError\u001b[0m\u001b[1;33m,\u001b[0m \u001b[0mTypeError\u001b[0m\u001b[1;33m)\u001b[0m\u001b[1;33m:\u001b[0m\u001b[1;33m\u001b[0m\u001b[1;33m\u001b[0m\u001b[0m\n\u001b[1;32m-> 1863\u001b[1;33m             \u001b[1;32mraise\u001b[0m \u001b[0me\u001b[0m\u001b[1;33m\u001b[0m\u001b[1;33m\u001b[0m\u001b[0m\n\u001b[0m\u001b[0;32m   1864\u001b[0m \u001b[1;33m\u001b[0m\u001b[0m\n\u001b[0;32m   1865\u001b[0m     \u001b[1;32mif\u001b[0m \u001b[0mtz_parsed\u001b[0m \u001b[1;32mis\u001b[0m \u001b[1;32mnot\u001b[0m \u001b[1;32mNone\u001b[0m\u001b[1;33m:\u001b[0m\u001b[1;33m\u001b[0m\u001b[1;33m\u001b[0m\u001b[0m\n",
      "\u001b[1;32mC:\\ProgramData\\Anaconda3\\lib\\site-packages\\pandas\\core\\arrays\\datetimes.py\u001b[0m in \u001b[0;36mobjects_to_datetime64ns\u001b[1;34m(data, dayfirst, yearfirst, utc, errors, require_iso8601, allow_object)\u001b[0m\n\u001b[0;32m   1852\u001b[0m             \u001b[0mdayfirst\u001b[0m\u001b[1;33m=\u001b[0m\u001b[0mdayfirst\u001b[0m\u001b[1;33m,\u001b[0m\u001b[1;33m\u001b[0m\u001b[1;33m\u001b[0m\u001b[0m\n\u001b[0;32m   1853\u001b[0m             \u001b[0myearfirst\u001b[0m\u001b[1;33m=\u001b[0m\u001b[0myearfirst\u001b[0m\u001b[1;33m,\u001b[0m\u001b[1;33m\u001b[0m\u001b[1;33m\u001b[0m\u001b[0m\n\u001b[1;32m-> 1854\u001b[1;33m             \u001b[0mrequire_iso8601\u001b[0m\u001b[1;33m=\u001b[0m\u001b[0mrequire_iso8601\u001b[0m\u001b[1;33m,\u001b[0m\u001b[1;33m\u001b[0m\u001b[1;33m\u001b[0m\u001b[0m\n\u001b[0m\u001b[0;32m   1855\u001b[0m         )\n\u001b[0;32m   1856\u001b[0m     \u001b[1;32mexcept\u001b[0m \u001b[0mValueError\u001b[0m \u001b[1;32mas\u001b[0m \u001b[0me\u001b[0m\u001b[1;33m:\u001b[0m\u001b[1;33m\u001b[0m\u001b[1;33m\u001b[0m\u001b[0m\n",
      "\u001b[1;32mpandas\\_libs\\tslib.pyx\u001b[0m in \u001b[0;36mpandas._libs.tslib.array_to_datetime\u001b[1;34m()\u001b[0m\n",
      "\u001b[1;32mpandas\\_libs\\tslib.pyx\u001b[0m in \u001b[0;36mpandas._libs.tslib.array_to_datetime\u001b[1;34m()\u001b[0m\n",
      "\u001b[1;32mpandas\\_libs\\tslib.pyx\u001b[0m in \u001b[0;36mpandas._libs.tslib.array_to_datetime_object\u001b[1;34m()\u001b[0m\n",
      "\u001b[1;32mpandas\\_libs\\tslib.pyx\u001b[0m in \u001b[0;36mpandas._libs.tslib.array_to_datetime_object\u001b[1;34m()\u001b[0m\n",
      "\u001b[1;32mpandas\\_libs\\tslibs\\parsing.pyx\u001b[0m in \u001b[0;36mpandas._libs.tslibs.parsing.parse_datetime_string\u001b[1;34m()\u001b[0m\n",
      "\u001b[1;32mC:\\ProgramData\\Anaconda3\\lib\\site-packages\\dateutil\\parser\\_parser.py\u001b[0m in \u001b[0;36mparse\u001b[1;34m(timestr, parserinfo, **kwargs)\u001b[0m\n\u001b[0;32m   1372\u001b[0m         \u001b[1;32mreturn\u001b[0m \u001b[0mparser\u001b[0m\u001b[1;33m(\u001b[0m\u001b[0mparserinfo\u001b[0m\u001b[1;33m)\u001b[0m\u001b[1;33m.\u001b[0m\u001b[0mparse\u001b[0m\u001b[1;33m(\u001b[0m\u001b[0mtimestr\u001b[0m\u001b[1;33m,\u001b[0m \u001b[1;33m**\u001b[0m\u001b[0mkwargs\u001b[0m\u001b[1;33m)\u001b[0m\u001b[1;33m\u001b[0m\u001b[1;33m\u001b[0m\u001b[0m\n\u001b[0;32m   1373\u001b[0m     \u001b[1;32melse\u001b[0m\u001b[1;33m:\u001b[0m\u001b[1;33m\u001b[0m\u001b[1;33m\u001b[0m\u001b[0m\n\u001b[1;32m-> 1374\u001b[1;33m         \u001b[1;32mreturn\u001b[0m \u001b[0mDEFAULTPARSER\u001b[0m\u001b[1;33m.\u001b[0m\u001b[0mparse\u001b[0m\u001b[1;33m(\u001b[0m\u001b[0mtimestr\u001b[0m\u001b[1;33m,\u001b[0m \u001b[1;33m**\u001b[0m\u001b[0mkwargs\u001b[0m\u001b[1;33m)\u001b[0m\u001b[1;33m\u001b[0m\u001b[1;33m\u001b[0m\u001b[0m\n\u001b[0m\u001b[0;32m   1375\u001b[0m \u001b[1;33m\u001b[0m\u001b[0m\n\u001b[0;32m   1376\u001b[0m \u001b[1;33m\u001b[0m\u001b[0m\n",
      "\u001b[1;32mC:\\ProgramData\\Anaconda3\\lib\\site-packages\\dateutil\\parser\\_parser.py\u001b[0m in \u001b[0;36mparse\u001b[1;34m(self, timestr, default, ignoretz, tzinfos, **kwargs)\u001b[0m\n\u001b[0;32m    647\u001b[0m \u001b[1;33m\u001b[0m\u001b[0m\n\u001b[0;32m    648\u001b[0m         \u001b[1;32mif\u001b[0m \u001b[0mres\u001b[0m \u001b[1;32mis\u001b[0m \u001b[1;32mNone\u001b[0m\u001b[1;33m:\u001b[0m\u001b[1;33m\u001b[0m\u001b[1;33m\u001b[0m\u001b[0m\n\u001b[1;32m--> 649\u001b[1;33m             \u001b[1;32mraise\u001b[0m \u001b[0mParserError\u001b[0m\u001b[1;33m(\u001b[0m\u001b[1;34m\"Unknown string format: %s\"\u001b[0m\u001b[1;33m,\u001b[0m \u001b[0mtimestr\u001b[0m\u001b[1;33m)\u001b[0m\u001b[1;33m\u001b[0m\u001b[1;33m\u001b[0m\u001b[0m\n\u001b[0m\u001b[0;32m    650\u001b[0m \u001b[1;33m\u001b[0m\u001b[0m\n\u001b[0;32m    651\u001b[0m         \u001b[1;32mif\u001b[0m \u001b[0mlen\u001b[0m\u001b[1;33m(\u001b[0m\u001b[0mres\u001b[0m\u001b[1;33m)\u001b[0m \u001b[1;33m==\u001b[0m \u001b[1;36m0\u001b[0m\u001b[1;33m:\u001b[0m\u001b[1;33m\u001b[0m\u001b[1;33m\u001b[0m\u001b[0m\n",
      "\u001b[1;31mParserError\u001b[0m: Unknown string format: formatted_date"
     ]
    }
   ],
   "source": [
    "combine_and_add_cols('./data/sentiment_data')"
   ]
  },
  {
   "cell_type": "code",
   "execution_count": null,
   "metadata": {},
   "outputs": [],
   "source": []
  }
 ],
 "metadata": {
  "kernelspec": {
   "display_name": "Python 3",
   "language": "python",
   "name": "python3"
  },
  "language_info": {
   "codemirror_mode": {
    "name": "ipython",
    "version": 3
   },
   "file_extension": ".py",
   "mimetype": "text/x-python",
   "name": "python",
   "nbconvert_exporter": "python",
   "pygments_lexer": "ipython3",
   "version": "3.7.7"
  }
 },
 "nbformat": 4,
 "nbformat_minor": 4
}
