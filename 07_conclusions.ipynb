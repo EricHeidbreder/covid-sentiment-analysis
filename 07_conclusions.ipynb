{
 "cells": [
  {
   "cell_type": "markdown",
   "metadata": {},
   "source": [
    "## **Conclusions**"
   ]
  },
  {
   "cell_type": "code",
   "execution_count": 1,
   "metadata": {},
   "outputs": [],
   "source": [
    "import pandas as pd\n",
    "import numpy as np\n",
    "import matplotlib.pyplot as plt\n",
    "import matplotlib.style as style\n",
    "import seaborn as sns"
   ]
  },
  {
   "cell_type": "markdown",
   "metadata": {},
   "source": [
    "## **Conclusions and Insights**:\n",
    "\n",
    "* Regardless of the scale of the dates, local issues generally affect people's sentiments more than national ones.\n",
    "* Sentiment returns to normal after annoucement\n",
    "* The reopening date had more negative sentiment as compared to the shutdown date\n",
    "* Between Midnight - 4am, tweets tend to have a higher absoulute value for compound score.\n",
    "\n",
    "## Next Steps:\n",
    "\n",
    "#### If given more time, we would like conduct the following:\n",
    "\n",
    "* Perfrom a Covid-19 sentiment analysis on all states in the US and compare results.\n",
    "* Conducting hypothesis testing may also prove to be useful as it may allow us to discover some powerful insights. We would want to know if the variation in our sentiment analysis are statistically significant.\n",
    "* Connecting other major/ significant events to our data points\n",
    "* Doing more background on Twitter users.\n",
    "    * You can read more about it below. https://www.mercurynews.com/2014/08/26/highly-opinionated-people-are-social-media-minority-study-finds/\n",
    "    * https://www.pewresearch.org/internet/2019/04/24/sizing-up-twitter-users/\n",
    "\n",
    "Thank you!"
   ]
  }
 ],
 "metadata": {
  "kernelspec": {
   "display_name": "Python 3",
   "language": "python",
   "name": "python3"
  },
  "language_info": {
   "codemirror_mode": {
    "name": "ipython",
    "version": 3
   },
   "file_extension": ".py",
   "mimetype": "text/x-python",
   "name": "python",
   "nbconvert_exporter": "python",
   "pygments_lexer": "ipython3",
   "version": "3.7.9"
  }
 },
 "nbformat": 4,
 "nbformat_minor": 4
}
