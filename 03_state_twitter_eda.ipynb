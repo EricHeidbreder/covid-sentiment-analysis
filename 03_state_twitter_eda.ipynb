{
 "cells": [
  {
   "cell_type": "code",
   "execution_count": 85,
   "metadata": {},
   "outputs": [],
   "source": [
    "import numpy as np\n",
    "import pandas as pd\n",
    "import matplotlib.pyplot as plt\n",
    "import matplotlib.style as style\n",
    "import seaborn as sns\n",
    "from datetime import datetime\n",
    "from sklearn.feature_extraction.text import TfidfVectorizer, CountVectorizer\n",
    "from tqdm import tqdm\n",
    "from nltk.corpus import stopwords\n",
    "from nltk.tokenize import RegexpTokenizer\n",
    "from nltk.stem.porter import PorterStemmer\n",
    "from bs4 import BeautifulSoup\n",
    "from joblib import Parallel, delayed"
   ]
  },
  {
   "cell_type": "code",
   "execution_count": 86,
   "metadata": {},
   "outputs": [],
   "source": [
    "# Setting matplotlib style\n",
    "style.use('ggplot')"
   ]
  },
  {
   "cell_type": "code",
   "execution_count": 104,
   "metadata": {},
   "outputs": [],
   "source": [
    "state_shutdown = pd.read_csv('./data/reopening_data/IL_full_reopen.csv')"
   ]
  },
  {
   "cell_type": "code",
   "execution_count": 105,
   "metadata": {},
   "outputs": [
    {
     "name": "stdout",
     "output_type": "stream",
     "text": [
      "<class 'pandas.core.frame.DataFrame'>\n",
      "RangeIndex: 85646 entries, 0 to 85645\n",
      "Data columns (total 21 columns):\n",
      " #   Column          Non-Null Count  Dtype  \n",
      "---  ------          --------------  -----  \n",
      " 0   username        85646 non-null  object \n",
      " 1   to              43220 non-null  object \n",
      " 2   text            85646 non-null  object \n",
      " 3   retweets        85646 non-null  int64  \n",
      " 4   favorites       85646 non-null  int64  \n",
      " 5   replies         85646 non-null  int64  \n",
      " 6   id              85646 non-null  int64  \n",
      " 7   permalink       85646 non-null  object \n",
      " 8   author_id       85646 non-null  int64  \n",
      " 9   date            85646 non-null  object \n",
      " 10  formatted_date  85646 non-null  object \n",
      " 11  hashtags        11805 non-null  object \n",
      " 12  mentions        10688 non-null  object \n",
      " 13  geo             0 non-null      float64\n",
      " 14  urls            21776 non-null  object \n",
      " 15  city            85646 non-null  object \n",
      " 16  query           85646 non-null  object \n",
      " 17  date_range      85646 non-null  object \n",
      " 18  state           85646 non-null  object \n",
      " 19  month           85646 non-null  int64  \n",
      " 20  day             85646 non-null  int64  \n",
      "dtypes: float64(1), int64(7), object(13)\n",
      "memory usage: 13.7+ MB\n"
     ]
    }
   ],
   "source": [
    "state_shutdown.info()"
   ]
  },
  {
   "cell_type": "code",
   "execution_count": 106,
   "metadata": {},
   "outputs": [
    {
     "data": {
      "text/plain": [
       "city\n",
       "chicago          56736\n",
       "highland park     4750\n",
       "elgin             3410\n",
       "orland park       3082\n",
       "naperville        2266\n",
       "blue island       2042\n",
       "gurnee            1639\n",
       "st jacob          1380\n",
       "champaign         1294\n",
       "rockford          1242\n",
       "bolingbrook        993\n",
       "springfield        965\n",
       "bristol            784\n",
       "round lake         737\n",
       "bloomington        709\n",
       "marengo            570\n",
       "peoria             491\n",
       "marion             487\n",
       "decatur            361\n",
       "aurora             315\n",
       "hecker             313\n",
       "dixon              123\n",
       "monmouth           112\n",
       "fox lake           110\n",
       "vandalia            79\n",
       "macomb              77\n",
       "harrisburg          63\n",
       "freeport            57\n",
       "nokomis             49\n",
       "streator            44\n",
       "melvin              34\n",
       "marissa             33\n",
       "jacksonville        32\n",
       "tuscola             27\n",
       "kewanee             27\n",
       "vermont             23\n",
       "farmington          21\n",
       "onarga              21\n",
       "san jose            21\n",
       "carbondale          20\n",
       "paw paw             18\n",
       "mt carmel           18\n",
       "sumner              14\n",
       "enfield             10\n",
       "oblong              10\n",
       "paris                7\n",
       "marshall             7\n",
       "sterling             7\n",
       "danville             6\n",
       "galena               5\n",
       "fairfield            5\n",
       "Name: id, dtype: int64"
      ]
     },
     "execution_count": 106,
     "metadata": {},
     "output_type": "execute_result"
    }
   ],
   "source": [
    "state_shutdown.groupby('city').count()['id'].sort_values(ascending=False)"
   ]
  },
  {
   "cell_type": "code",
   "execution_count": 107,
   "metadata": {},
   "outputs": [],
   "source": [
    "state_shutdown_df = state_shutdown.copy()[['username', 'text', 'date', 'city', 'state', 'month', 'day']]"
   ]
  },
  {
   "cell_type": "code",
   "execution_count": 108,
   "metadata": {},
   "outputs": [],
   "source": [
    "state_shutdown_df['date'] = pd.to_datetime(state_shutdown_df['date'], utc=True)"
   ]
  },
  {
   "cell_type": "code",
   "execution_count": 109,
   "metadata": {},
   "outputs": [],
   "source": [
    "# Creating year month day column because we'll need a way to sort dates across months\n",
    "state_shutdown_df['year_month_day'] = state_shutdown_df['date'].dt.date"
   ]
  },
  {
   "cell_type": "code",
   "execution_count": 110,
   "metadata": {},
   "outputs": [
    {
     "name": "stdout",
     "output_type": "stream",
     "text": [
      "<class 'pandas.core.frame.DataFrame'>\n",
      "RangeIndex: 85646 entries, 0 to 85645\n",
      "Data columns (total 8 columns):\n",
      " #   Column          Non-Null Count  Dtype              \n",
      "---  ------          --------------  -----              \n",
      " 0   username        85646 non-null  object             \n",
      " 1   text            85646 non-null  object             \n",
      " 2   date            85646 non-null  datetime64[ns, UTC]\n",
      " 3   city            85646 non-null  object             \n",
      " 4   state           85646 non-null  object             \n",
      " 5   month           85646 non-null  int64              \n",
      " 6   day             85646 non-null  int64              \n",
      " 7   year_month_day  85646 non-null  object             \n",
      "dtypes: datetime64[ns, UTC](1), int64(2), object(5)\n",
      "memory usage: 5.2+ MB\n"
     ]
    }
   ],
   "source": [
    "state_shutdown_df.info()"
   ]
  },
  {
   "cell_type": "code",
   "execution_count": 111,
   "metadata": {},
   "outputs": [
    {
     "data": {
      "text/plain": [
       "85645    2020-05-26\n",
       "55743    2020-05-26\n",
       "55744    2020-05-26\n",
       "55745    2020-05-26\n",
       "55746    2020-05-26\n",
       "            ...    \n",
       "2687     2020-06-09\n",
       "2688     2020-06-09\n",
       "2689     2020-06-09\n",
       "2677     2020-06-09\n",
       "0        2020-06-09\n",
       "Name: year_month_day, Length: 85646, dtype: object"
      ]
     },
     "execution_count": 111,
     "metadata": {},
     "output_type": "execute_result"
    }
   ],
   "source": [
    "state_shutdown_df['year_month_day'].sort_values()"
   ]
  },
  {
   "cell_type": "code",
   "execution_count": 112,
   "metadata": {},
   "outputs": [
    {
     "data": {
      "text/html": [
       "<div>\n",
       "<style scoped>\n",
       "    .dataframe tbody tr th:only-of-type {\n",
       "        vertical-align: middle;\n",
       "    }\n",
       "\n",
       "    .dataframe tbody tr th {\n",
       "        vertical-align: top;\n",
       "    }\n",
       "\n",
       "    .dataframe thead th {\n",
       "        text-align: right;\n",
       "    }\n",
       "</style>\n",
       "<table border=\"1\" class=\"dataframe\">\n",
       "  <thead>\n",
       "    <tr style=\"text-align: right;\">\n",
       "      <th></th>\n",
       "      <th>username</th>\n",
       "      <th>text</th>\n",
       "      <th>date</th>\n",
       "      <th>city</th>\n",
       "      <th>state</th>\n",
       "      <th>month</th>\n",
       "      <th>day</th>\n",
       "    </tr>\n",
       "    <tr>\n",
       "      <th>year_month_day</th>\n",
       "      <th></th>\n",
       "      <th></th>\n",
       "      <th></th>\n",
       "      <th></th>\n",
       "      <th></th>\n",
       "      <th></th>\n",
       "      <th></th>\n",
       "    </tr>\n",
       "  </thead>\n",
       "  <tbody>\n",
       "    <tr>\n",
       "      <th>2020-05-26</th>\n",
       "      <td>5029</td>\n",
       "      <td>5029</td>\n",
       "      <td>5029</td>\n",
       "      <td>5029</td>\n",
       "      <td>5029</td>\n",
       "      <td>5029</td>\n",
       "      <td>5029</td>\n",
       "    </tr>\n",
       "    <tr>\n",
       "      <th>2020-05-27</th>\n",
       "      <td>5455</td>\n",
       "      <td>5455</td>\n",
       "      <td>5455</td>\n",
       "      <td>5455</td>\n",
       "      <td>5455</td>\n",
       "      <td>5455</td>\n",
       "      <td>5455</td>\n",
       "    </tr>\n",
       "    <tr>\n",
       "      <th>2020-05-28</th>\n",
       "      <td>5995</td>\n",
       "      <td>5995</td>\n",
       "      <td>5995</td>\n",
       "      <td>5995</td>\n",
       "      <td>5995</td>\n",
       "      <td>5995</td>\n",
       "      <td>5995</td>\n",
       "    </tr>\n",
       "    <tr>\n",
       "      <th>2020-05-29</th>\n",
       "      <td>6104</td>\n",
       "      <td>6104</td>\n",
       "      <td>6104</td>\n",
       "      <td>6104</td>\n",
       "      <td>6104</td>\n",
       "      <td>6104</td>\n",
       "      <td>6104</td>\n",
       "    </tr>\n",
       "    <tr>\n",
       "      <th>2020-05-30</th>\n",
       "      <td>5460</td>\n",
       "      <td>5460</td>\n",
       "      <td>5460</td>\n",
       "      <td>5460</td>\n",
       "      <td>5460</td>\n",
       "      <td>5460</td>\n",
       "      <td>5460</td>\n",
       "    </tr>\n",
       "    <tr>\n",
       "      <th>2020-05-31</th>\n",
       "      <td>7439</td>\n",
       "      <td>7439</td>\n",
       "      <td>7439</td>\n",
       "      <td>7439</td>\n",
       "      <td>7439</td>\n",
       "      <td>7439</td>\n",
       "      <td>7439</td>\n",
       "    </tr>\n",
       "    <tr>\n",
       "      <th>2020-06-01</th>\n",
       "      <td>7169</td>\n",
       "      <td>7169</td>\n",
       "      <td>7169</td>\n",
       "      <td>7169</td>\n",
       "      <td>7169</td>\n",
       "      <td>7169</td>\n",
       "      <td>7169</td>\n",
       "    </tr>\n",
       "    <tr>\n",
       "      <th>2020-06-02</th>\n",
       "      <td>6580</td>\n",
       "      <td>6580</td>\n",
       "      <td>6580</td>\n",
       "      <td>6580</td>\n",
       "      <td>6580</td>\n",
       "      <td>6580</td>\n",
       "      <td>6580</td>\n",
       "    </tr>\n",
       "    <tr>\n",
       "      <th>2020-06-03</th>\n",
       "      <td>6107</td>\n",
       "      <td>6107</td>\n",
       "      <td>6107</td>\n",
       "      <td>6107</td>\n",
       "      <td>6107</td>\n",
       "      <td>6107</td>\n",
       "      <td>6107</td>\n",
       "    </tr>\n",
       "    <tr>\n",
       "      <th>2020-06-04</th>\n",
       "      <td>5901</td>\n",
       "      <td>5901</td>\n",
       "      <td>5901</td>\n",
       "      <td>5901</td>\n",
       "      <td>5901</td>\n",
       "      <td>5901</td>\n",
       "      <td>5901</td>\n",
       "    </tr>\n",
       "    <tr>\n",
       "      <th>2020-06-05</th>\n",
       "      <td>5671</td>\n",
       "      <td>5671</td>\n",
       "      <td>5671</td>\n",
       "      <td>5671</td>\n",
       "      <td>5671</td>\n",
       "      <td>5671</td>\n",
       "      <td>5671</td>\n",
       "    </tr>\n",
       "    <tr>\n",
       "      <th>2020-06-06</th>\n",
       "      <td>4888</td>\n",
       "      <td>4888</td>\n",
       "      <td>4888</td>\n",
       "      <td>4888</td>\n",
       "      <td>4888</td>\n",
       "      <td>4888</td>\n",
       "      <td>4888</td>\n",
       "    </tr>\n",
       "    <tr>\n",
       "      <th>2020-06-07</th>\n",
       "      <td>4393</td>\n",
       "      <td>4393</td>\n",
       "      <td>4393</td>\n",
       "      <td>4393</td>\n",
       "      <td>4393</td>\n",
       "      <td>4393</td>\n",
       "      <td>4393</td>\n",
       "    </tr>\n",
       "    <tr>\n",
       "      <th>2020-06-08</th>\n",
       "      <td>4627</td>\n",
       "      <td>4627</td>\n",
       "      <td>4627</td>\n",
       "      <td>4627</td>\n",
       "      <td>4627</td>\n",
       "      <td>4627</td>\n",
       "      <td>4627</td>\n",
       "    </tr>\n",
       "    <tr>\n",
       "      <th>2020-06-09</th>\n",
       "      <td>4828</td>\n",
       "      <td>4828</td>\n",
       "      <td>4828</td>\n",
       "      <td>4828</td>\n",
       "      <td>4828</td>\n",
       "      <td>4828</td>\n",
       "      <td>4828</td>\n",
       "    </tr>\n",
       "  </tbody>\n",
       "</table>\n",
       "</div>"
      ],
      "text/plain": [
       "                username  text  date  city  state  month   day\n",
       "year_month_day                                                \n",
       "2020-05-26          5029  5029  5029  5029   5029   5029  5029\n",
       "2020-05-27          5455  5455  5455  5455   5455   5455  5455\n",
       "2020-05-28          5995  5995  5995  5995   5995   5995  5995\n",
       "2020-05-29          6104  6104  6104  6104   6104   6104  6104\n",
       "2020-05-30          5460  5460  5460  5460   5460   5460  5460\n",
       "2020-05-31          7439  7439  7439  7439   7439   7439  7439\n",
       "2020-06-01          7169  7169  7169  7169   7169   7169  7169\n",
       "2020-06-02          6580  6580  6580  6580   6580   6580  6580\n",
       "2020-06-03          6107  6107  6107  6107   6107   6107  6107\n",
       "2020-06-04          5901  5901  5901  5901   5901   5901  5901\n",
       "2020-06-05          5671  5671  5671  5671   5671   5671  5671\n",
       "2020-06-06          4888  4888  4888  4888   4888   4888  4888\n",
       "2020-06-07          4393  4393  4393  4393   4393   4393  4393\n",
       "2020-06-08          4627  4627  4627  4627   4627   4627  4627\n",
       "2020-06-09          4828  4828  4828  4828   4828   4828  4828"
      ]
     },
     "execution_count": 112,
     "metadata": {},
     "output_type": "execute_result"
    }
   ],
   "source": [
    "state_shutdown_df.groupby('year_month_day').count()"
   ]
  },
  {
   "cell_type": "code",
   "execution_count": 113,
   "metadata": {},
   "outputs": [],
   "source": [
    "def plot_tweets_per_day(data):\n",
    "    x = sorted(data['year_month_day'].value_counts().index) # Sorted dates\n",
    "    y = data.groupby('year_month_day').count()['username'] # Num tweets per day\n",
    "\n",
    "    plt.figure(figsize=(10, 6))\n",
    "    sns.scatterplot(x, y, s=50, marker='o', color='darkred', zorder=3)\n",
    "    sns.lineplot(x, y, color='red', linewidth=2.2)\n",
    "    plt.axvline(x[3], color='blue') # 3rd day of search is the announcement date\n",
    "    plt.title(f'Tweets per day in {data[\"state\"][0]} surrounding Covid announcement date')\n",
    "    plt.ylabel('Number of Tweets')\n",
    "    plt.legend(labels=['_', 'Date shut-down announced'])\n",
    "    plt.xlabel('Date');"
   ]
  },
  {
   "cell_type": "code",
   "execution_count": 114,
   "metadata": {},
   "outputs": [
    {
     "name": "stderr",
     "output_type": "stream",
     "text": [
      "C:\\ProgramData\\Anaconda3\\envs\\dsi\\lib\\site-packages\\ipykernel_launcher.py:11: UserWarning: The handle <matplotlib.lines.Line2D object at 0x0000022C52056B08> has a label of '_' which cannot be automatically added to the legend.\n",
      "  # This is added back by InteractiveShellApp.init_path()\n"
     ]
    },
    {
     "data": {
      "image/png": "[encoded data removed]",
      "text/plain": [
       "<Figure size 720x432 with 1 Axes>"
      ]
     },
     "metadata": {},
     "output_type": "display_data"
    }
   ],
   "source": [
    "plot_tweets_per_day(state_shutdown_df)"
   ]
  },
  {
   "cell_type": "markdown",
   "metadata": {},
   "source": [
    "Tweet activity steadily decreased in the weeks following the announcement of the shut-down in Illinois on **March 20, 2020**"
   ]
  },
  {
   "cell_type": "code",
   "execution_count": 102,
   "metadata": {},
   "outputs": [],
   "source": [
    "def plot_top_and_bottom_tweeting_cities(data):\n",
    "    top_tweeting_cities = data.groupby('city').count()['username'].sort_values().tail(10)\n",
    "    bottom_tweeting_cities = data.groupby('city').count()['username'].sort_values().head(10)\n",
    "    \n",
    "    fig, ax = plt.subplots(nrows=2, figsize=(10, 12))\n",
    "    \n",
    "    top_tweeting_cities.plot(kind='barh',\n",
    "                         x=top_tweeting_cities.index,\n",
    "                         y=top_tweeting_cities.values,\n",
    "                         ax=ax[0],\n",
    "                         color='darkred')\n",
    "\n",
    "    ax[0].set_title(f'Top 10 Tweeting Cities in {data[\"state\"][0]}', size=20, pad=15)\n",
    "    ax[0].set_ylabel('City Name', size=16)\n",
    "    ax[0].set_xlabel('Number of Tweets', size=16)\n",
    "    ax[0].set_yticklabels([label.title() for label in top_tweeting_cities.index], # Setting city name to capital letters\n",
    "               fontsize=12);\n",
    "    \n",
    "    bottom_tweeting_cities.plot(kind='barh',\n",
    "                     x=bottom_tweeting_cities.index,\n",
    "                     y=bottom_tweeting_cities.values,\n",
    "                     ax=ax[1],\n",
    "                     color='darkblue')\n",
    "\n",
    "    ax[1].set_title(f'Bottom 10 Tweeting Cities in {data[\"state\"][0]}', size=20, pad=15)\n",
    "    ax[1].set_ylabel('City Name', size=16)\n",
    "    ax[1].set_xlabel('Number of Tweets', size=16)\n",
    "    ax[1].set_yticklabels([label.title() for label in bottom_tweeting_cities.index], # Setting city name to capital letters\n",
    "               fontsize=12)\n",
    "    plt.tight_layout();"
   ]
  },
  {
   "cell_type": "code",
   "execution_count": 103,
   "metadata": {},
   "outputs": [
    {
     "data": {
      "image/png": "[encoded data removed]",
      "text/plain": [
       "<Figure size 720x864 with 2 Axes>"
      ]
     },
     "metadata": {},
     "output_type": "display_data"
    }
   ],
   "source": [
    "plot_top_and_bottom_tweeting_cities(state_shutdown_df)"
   ]
  },
  {
   "cell_type": "markdown",
   "metadata": {},
   "source": [
    "**Note the drastic difference in scale!** The top three tweeting regions are Chicago, Blue Island, and Orland Park. Note that these may not be precise city areas, but regions, as our collection method involved the radius surrounding a city."
   ]
  },
  {
   "cell_type": "code",
   "execution_count": null,
   "metadata": {},
   "outputs": [],
   "source": [
    "city_tweets_per_day = state_shutdown_df.groupby(['city', 'year_month_day']).count()[['username']]"
   ]
  },
  {
   "cell_type": "code",
   "execution_count": null,
   "metadata": {},
   "outputs": [],
   "source": [
    "city_tweets_per_day.T['chicago'].T.index"
   ]
  },
  {
   "cell_type": "code",
   "execution_count": null,
   "metadata": {},
   "outputs": [],
   "source": [
    "def plot_city_tweets_per_day(data, city):\n",
    "    '''\n",
    "    Need to have \"state_shutdown_df\" defined\n",
    "    '''\n",
    "    sort_dates = sorted(data['year_month_day'].value_counts().index) # Sorted dates\n",
    "    city_tweets_per_day = data.groupby(['city', 'year_month_day']).count()[['username']]\n",
    "    city_tweets_per_day.T[city].T.plot(figsize=(10, 6), linewidth=2.2, marker='o')\n",
    "    plt.title(f'Tweets Over Time in {city.title()}')\n",
    "    plt.axvline(sort_dates[3], color='darkblue')\n",
    "    plt.legend(['_', 'Date of shutdown announcement']);"
   ]
  },
  {
   "cell_type": "code",
   "execution_count": null,
   "metadata": {},
   "outputs": [],
   "source": [
    "plot_city_tweets_per_day(state_shutdown_df, 'chicago')"
   ]
  },
  {
   "cell_type": "code",
   "execution_count": null,
   "metadata": {},
   "outputs": [],
   "source": [
    "plot_city_tweets_per_day(state_shutdown_df, 'blue island')"
   ]
  },
  {
   "cell_type": "code",
   "execution_count": null,
   "metadata": {},
   "outputs": [],
   "source": [
    "plot_city_tweets_per_day(state_shutdown_df, 'rockford')"
   ]
  },
  {
   "cell_type": "code",
   "execution_count": null,
   "metadata": {},
   "outputs": [],
   "source": [
    "plot_city_tweets_per_day(state_shutdown_df, 'springfield')"
   ]
  },
  {
   "cell_type": "code",
   "execution_count": null,
   "metadata": {},
   "outputs": [],
   "source": [
    "plot_city_tweets_per_day(state_shutdown_df, 'elgin')"
   ]
  },
  {
   "cell_type": "code",
   "execution_count": null,
   "metadata": {},
   "outputs": [],
   "source": [
    "plot_city_tweets_per_day(state_shutdown_df, 'bloomington')"
   ]
  },
  {
   "cell_type": "code",
   "execution_count": null,
   "metadata": {},
   "outputs": [],
   "source": [
    "stop_words = ['http', 'https', 'igshid', 'becau']"
   ]
  },
  {
   "cell_type": "code",
   "execution_count": null,
   "metadata": {},
   "outputs": [],
   "source": [
    "def tokenize_and_stem(text, stemmer=True):\n",
    "    '''\n",
    "    This does more than just tokenize and stem! The code removes links and\n",
    "    html artifacts and is great for dirty data scraped from Reddit.\n",
    "    \n",
    "    Needs to be run within a loop to work properly.\n",
    "    '''\n",
    "    # Getting rid of links\n",
    "    text = [word for word in text.lower().split() if not 'http' in word]\n",
    "\n",
    "    text = ' '.join(text)\n",
    "    \n",
    "    # Remove HTML Artifacts\n",
    "    bs = BeautifulSoup(text)\n",
    "    text = bs.get_text()\n",
    "    \n",
    "    # Tokenize clean text by separating out all word characters\n",
    "    tokenizer = RegexpTokenizer('\\w+')\n",
    "    tokens = tokenizer.tokenize(text)\n",
    "    \n",
    "    # Stem the tokens\n",
    "    p_stemmer = PorterStemmer()\n",
    "    return [p_stemmer.stem(i) for i in tokens]\n",
    "\n",
    "def tokenize(text):\n",
    "    # Getting rid of links\n",
    "    text = [word for word in text.lower().split() if not 'http' in word]\n",
    "    \n",
    "    text = ' '.join(text)\n",
    "    \n",
    "    # Remove HTML Artifacts\n",
    "    bs = BeautifulSoup(text)\n",
    "    text = bs.get_text()\n",
    "    \n",
    "    # Tokenize clean text by separating out all word characters\n",
    "    tokenizer = RegexpTokenizer('\\w+')\n",
    "    tokens = tokenizer.tokenize(text)\n",
    "    return tokens"
   ]
  },
  {
   "cell_type": "code",
   "execution_count": null,
   "metadata": {},
   "outputs": [],
   "source": [
    "custom_sw = stopwords.words('english') + stop_words\n",
    "processed_sw = tokenize_and_stem(' '.join(custom_sw))"
   ]
  },
  {
   "cell_type": "code",
   "execution_count": null,
   "metadata": {},
   "outputs": [],
   "source": [
    "cvec_processed_sw = tokenize(' '.join(custom_sw))\n",
    "\n",
    "cvec = CountVectorizer(stop_words=custom_sw, tokenizer=tokenize)\n",
    "cvec_fit = cvec.fit(state_shutdown_df['text'])\n",
    "cvec_transform = cvec.transform(state_shutdown_df['text'])\n",
    "\n",
    "cvec_df = pd.DataFrame(cvec_transform.todense(),\n",
    "                 columns=cvec_fit.get_feature_names())\n",
    "\n",
    "cvec_df.head()"
   ]
  },
  {
   "cell_type": "code",
   "execution_count": null,
   "metadata": {},
   "outputs": [],
   "source": [
    "top_words_cvec = {}\n",
    "for column in tqdm(cvec_df.columns):\n",
    "    top_words_cvec[column] = cvec_df[column].sum()\n",
    "\n",
    "most_freq_cvec = pd.DataFrame(sorted(top_words_cvec.items(), key = lambda x: x[1], reverse=True))"
   ]
  },
  {
   "cell_type": "code",
   "execution_count": null,
   "metadata": {},
   "outputs": [],
   "source": [
    "most_freq_cvec.to_csv('./data/top_words_cvec_il.csv', index=False)"
   ]
  },
  {
   "cell_type": "code",
   "execution_count": null,
   "metadata": {},
   "outputs": [],
   "source": [
    "most_freq_cvec.head(200)[0].tolist()"
   ]
  }
 ],
 "metadata": {
  "kernelspec": {
   "display_name": "Python 3",
   "language": "python",
   "name": "python3"
  },
  "language_info": {
   "codemirror_mode": {
    "name": "ipython",
    "version": 3
   },
   "file_extension": ".py",
   "mimetype": "text/x-python",
   "name": "python",
   "nbconvert_exporter": "python",
   "pygments_lexer": "ipython3",
   "version": "3.7.9"
  }
 },
 "nbformat": 4,
 "nbformat_minor": 4
}
